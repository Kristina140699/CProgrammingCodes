{
  "nbformat": 4,
  "nbformat_minor": 0,
  "metadata": {
    "kernelspec": {
      "display_name": "Python 3",
      "language": "python",
      "name": "python3"
    },
    "language_info": {
      "codemirror_mode": {
        "name": "ipython",
        "version": 3
      },
      "file_extension": ".py",
      "mimetype": "text/x-python",
      "name": "python",
      "nbconvert_exporter": "python",
      "pygments_lexer": "ipython3",
      "version": "3.7.4"
    },
    "colab": {
      "name": "Python1.ipynb",
      "provenance": [],
      "include_colab_link": true
    }
  },
  "cells": [
    {
      "cell_type": "markdown",
      "metadata": {
        "id": "view-in-github",
        "colab_type": "text"
      },
      "source": [
        "<a href=\"https://colab.research.google.com/github/Kristina140699/CProgrammingCodes/blob/main/Python1.ipynb\" target=\"_parent\"><img src=\"https://colab.research.google.com/assets/colab-badge.svg\" alt=\"Open In Colab\"/></a>"
      ]
    },
    {
      "cell_type": "code",
      "metadata": {
        "id": "eQJ2TNDAYxVl"
      },
      "source": [
        "#Proprietary content. ©Great Learning. All Rights Reserved. Unauthorized use or distribution prohibited"
      ],
      "execution_count": null,
      "outputs": []
    },
    {
      "cell_type": "code",
      "metadata": {
        "id": "Pi770dIwYxVn"
      },
      "source": [
        "#First Program\n",
        "print(\"This is sparta!!!\")"
      ],
      "execution_count": null,
      "outputs": []
    },
    {
      "cell_type": "code",
      "metadata": {
        "id": "mnTjV_j4YxVo"
      },
      "source": [
        "#Variables\n",
        "var1=\"John\"\n",
        "print(var1)"
      ],
      "execution_count": null,
      "outputs": []
    },
    {
      "cell_type": "code",
      "metadata": {
        "id": "RTg8br2nYxVp"
      },
      "source": [
        "var1=\"Sam\"\n",
        "print(var1)"
      ],
      "execution_count": null,
      "outputs": []
    },
    {
      "cell_type": "code",
      "metadata": {
        "id": "bQWH7Gk_YxVp"
      },
      "source": [
        "var1=\"Matt\"\n",
        "print(var1)"
      ],
      "execution_count": null,
      "outputs": []
    },
    {
      "cell_type": "code",
      "metadata": {
        "id": "N22xI-7dYxVp"
      },
      "source": [
        "#Data-Type\n",
        "a=10\n",
        "type(a)"
      ],
      "execution_count": null,
      "outputs": []
    },
    {
      "cell_type": "code",
      "metadata": {
        "id": "OF6IOkozYxVq"
      },
      "source": [
        "a=10.5\n",
        "type(a)"
      ],
      "execution_count": null,
      "outputs": []
    },
    {
      "cell_type": "code",
      "metadata": {
        "id": "watT5s5PYxVq"
      },
      "source": [
        "a=\"sparta\"\n",
        "type(a)"
      ],
      "execution_count": null,
      "outputs": []
    },
    {
      "cell_type": "code",
      "metadata": {
        "id": "DZjqKgbGYxVq"
      },
      "source": [
        "a=True\n",
        "type(a)"
      ],
      "execution_count": null,
      "outputs": []
    },
    {
      "cell_type": "code",
      "metadata": {
        "id": "VYv4JUuTYxVr",
        "outputId": "30f868fa-fd3d-4a4d-8f82-35f6b38ac57c"
      },
      "source": [
        "a=3+4j\n",
        "type(a)"
      ],
      "execution_count": null,
      "outputs": [
        {
          "output_type": "execute_result",
          "data": {
            "text/plain": [
              "complex"
            ]
          },
          "metadata": {
            "tags": []
          },
          "execution_count": 7
        }
      ]
    },
    {
      "cell_type": "code",
      "metadata": {
        "id": "iVI3RNiRYxVr"
      },
      "source": [
        "#Arithmetic Operators\n",
        "# +, -, *, /"
      ],
      "execution_count": null,
      "outputs": []
    },
    {
      "cell_type": "code",
      "metadata": {
        "id": "DYBeV9TYYxVr"
      },
      "source": [
        "a=10\n",
        "b=20"
      ],
      "execution_count": null,
      "outputs": []
    },
    {
      "cell_type": "code",
      "metadata": {
        "id": "VgXo-9mqYxVr"
      },
      "source": [
        "print(a+b)"
      ],
      "execution_count": null,
      "outputs": []
    },
    {
      "cell_type": "code",
      "metadata": {
        "id": "EYH_X1beYxVs",
        "outputId": "4976e4f7-9e4d-442c-b414-a80039859cf0"
      },
      "source": [
        "print(a-b)"
      ],
      "execution_count": null,
      "outputs": [
        {
          "output_type": "stream",
          "text": [
            "-10\n"
          ],
          "name": "stdout"
        }
      ]
    },
    {
      "cell_type": "code",
      "metadata": {
        "id": "wnxQHFKyYxVs",
        "outputId": "e97f36b3-2d54-469f-8bbb-5015ab75d691"
      },
      "source": [
        "print(a*b)"
      ],
      "execution_count": null,
      "outputs": [
        {
          "output_type": "stream",
          "text": [
            "200\n"
          ],
          "name": "stdout"
        }
      ]
    },
    {
      "cell_type": "code",
      "metadata": {
        "id": "J9pR2xgrYxVs",
        "outputId": "01977caf-4738-4f34-8c02-8ec1dfc7af53"
      },
      "source": [
        "print(a/b)"
      ],
      "execution_count": null,
      "outputs": [
        {
          "output_type": "stream",
          "text": [
            "0.5\n"
          ],
          "name": "stdout"
        }
      ]
    },
    {
      "cell_type": "code",
      "metadata": {
        "id": "8rKog54MYxVs"
      },
      "source": [
        "#Relational Operators\n",
        "# >, <, ==, !="
      ],
      "execution_count": null,
      "outputs": []
    },
    {
      "cell_type": "code",
      "metadata": {
        "id": "nJJ4lxIvYxVs"
      },
      "source": [
        "a=10\n",
        "b=20"
      ],
      "execution_count": null,
      "outputs": []
    },
    {
      "cell_type": "code",
      "metadata": {
        "id": "T6rFec5_YxVt",
        "outputId": "7480c82d-deb9-41aa-ed23-b7b3fe077dbf"
      },
      "source": [
        "a>b"
      ],
      "execution_count": null,
      "outputs": [
        {
          "output_type": "execute_result",
          "data": {
            "text/plain": [
              "False"
            ]
          },
          "metadata": {
            "tags": []
          },
          "execution_count": 6
        }
      ]
    },
    {
      "cell_type": "code",
      "metadata": {
        "id": "pmAoZ1S0YxVt",
        "outputId": "73ce332f-07bf-440e-f82a-00a5189fd812"
      },
      "source": [
        "a<b"
      ],
      "execution_count": null,
      "outputs": [
        {
          "output_type": "execute_result",
          "data": {
            "text/plain": [
              "True"
            ]
          },
          "metadata": {
            "tags": []
          },
          "execution_count": 7
        }
      ]
    },
    {
      "cell_type": "code",
      "metadata": {
        "id": "bWOxI0hXYxVt",
        "outputId": "e44f5384-2742-4dc0-beb4-5a7198e50107"
      },
      "source": [
        "a==b"
      ],
      "execution_count": null,
      "outputs": [
        {
          "output_type": "execute_result",
          "data": {
            "text/plain": [
              "False"
            ]
          },
          "metadata": {
            "tags": []
          },
          "execution_count": 8
        }
      ]
    },
    {
      "cell_type": "code",
      "metadata": {
        "id": "cY2WXuw9YxVt",
        "outputId": "3d8ee85b-1cc3-4a00-e4f0-5a61c6f035f2"
      },
      "source": [
        "a!=b"
      ],
      "execution_count": null,
      "outputs": [
        {
          "output_type": "execute_result",
          "data": {
            "text/plain": [
              "True"
            ]
          },
          "metadata": {
            "tags": []
          },
          "execution_count": 9
        }
      ]
    },
    {
      "cell_type": "code",
      "metadata": {
        "id": "X5huDdcSYxVt"
      },
      "source": [
        "#Logical Operators"
      ],
      "execution_count": null,
      "outputs": []
    },
    {
      "cell_type": "code",
      "metadata": {
        "id": "-J_TF2trYxVt"
      },
      "source": [
        "a=True\n",
        "b=False"
      ],
      "execution_count": null,
      "outputs": []
    },
    {
      "cell_type": "code",
      "metadata": {
        "id": "1SevdqoYYxVu",
        "outputId": "343b7ee4-8f10-4f42-eb2b-6be5ff53569f"
      },
      "source": [
        "a&b"
      ],
      "execution_count": null,
      "outputs": [
        {
          "output_type": "execute_result",
          "data": {
            "text/plain": [
              "False"
            ]
          },
          "metadata": {
            "tags": []
          },
          "execution_count": 14
        }
      ]
    },
    {
      "cell_type": "code",
      "metadata": {
        "id": "WEJhivzXYxVu",
        "outputId": "262599f4-15e8-4a5e-9ffe-9e9d17edb9a4"
      },
      "source": [
        "b&a"
      ],
      "execution_count": null,
      "outputs": [
        {
          "output_type": "execute_result",
          "data": {
            "text/plain": [
              "False"
            ]
          },
          "metadata": {
            "tags": []
          },
          "execution_count": 15
        }
      ]
    },
    {
      "cell_type": "code",
      "metadata": {
        "id": "14I8cRp9YxVu",
        "outputId": "834ef803-7a69-46f6-c5db-1f16396ff866"
      },
      "source": [
        "b&b"
      ],
      "execution_count": null,
      "outputs": [
        {
          "output_type": "execute_result",
          "data": {
            "text/plain": [
              "False"
            ]
          },
          "metadata": {
            "tags": []
          },
          "execution_count": 16
        }
      ]
    },
    {
      "cell_type": "code",
      "metadata": {
        "id": "ridaa5IPYxVu",
        "outputId": "892b549b-bac6-44b9-8d34-412e9172949a"
      },
      "source": [
        "a&a"
      ],
      "execution_count": null,
      "outputs": [
        {
          "output_type": "execute_result",
          "data": {
            "text/plain": [
              "True"
            ]
          },
          "metadata": {
            "tags": []
          },
          "execution_count": 17
        }
      ]
    },
    {
      "cell_type": "code",
      "metadata": {
        "id": "fd9H0xjFYxVu",
        "outputId": "f12fc7a6-c6a9-431e-889d-f7a46ef7fe97"
      },
      "source": [
        "a|b"
      ],
      "execution_count": null,
      "outputs": [
        {
          "output_type": "execute_result",
          "data": {
            "text/plain": [
              "True"
            ]
          },
          "metadata": {
            "tags": []
          },
          "execution_count": 18
        }
      ]
    },
    {
      "cell_type": "code",
      "metadata": {
        "id": "UM4RS_xNYxVu",
        "outputId": "4d1ba6c4-caf9-4f0a-b050-3e4cf7fca9a1"
      },
      "source": [
        "b|a"
      ],
      "execution_count": null,
      "outputs": [
        {
          "output_type": "execute_result",
          "data": {
            "text/plain": [
              "True"
            ]
          },
          "metadata": {
            "tags": []
          },
          "execution_count": 19
        }
      ]
    },
    {
      "cell_type": "code",
      "metadata": {
        "id": "U5F6Wm_hYxVv",
        "outputId": "a538558f-86fb-4d53-c7cc-da8f3dff7f9d"
      },
      "source": [
        "a|a"
      ],
      "execution_count": null,
      "outputs": [
        {
          "output_type": "execute_result",
          "data": {
            "text/plain": [
              "True"
            ]
          },
          "metadata": {
            "tags": []
          },
          "execution_count": 20
        }
      ]
    },
    {
      "cell_type": "code",
      "metadata": {
        "id": "gUIGx3-BYxVv",
        "outputId": "d625c10c-7af3-402d-87d2-898540295b19"
      },
      "source": [
        "b|b"
      ],
      "execution_count": null,
      "outputs": [
        {
          "output_type": "execute_result",
          "data": {
            "text/plain": [
              "False"
            ]
          },
          "metadata": {
            "tags": []
          },
          "execution_count": 21
        }
      ]
    },
    {
      "cell_type": "code",
      "metadata": {
        "id": "pkphHJNmYxVv",
        "colab": {
          "base_uri": "https://localhost:8080/",
          "height": 35
        },
        "outputId": "d44d38e7-e13d-4923-8fce-a8451f384479"
      },
      "source": [
        "#Strings\n",
        "# here '' or \"\" or '''''' are all permited and does not really matter\n",
        "\n",
        "s1 = 'This is a string in single qoutes!!'\n",
        "s1"
      ],
      "execution_count": null,
      "outputs": [
        {
          "output_type": "execute_result",
          "data": {
            "application/vnd.google.colaboratory.intrinsic+json": {
              "type": "string"
            },
            "text/plain": [
              "'This is a string in single qoutes!!'"
            ]
          },
          "metadata": {
            "tags": []
          },
          "execution_count": 10
        }
      ]
    },
    {
      "cell_type": "code",
      "metadata": {
        "colab": {
          "base_uri": "https://localhost:8080/"
        },
        "id": "2JMFFgHU01Er",
        "outputId": "d72ed734-5672-4b9f-abee-a9a98d0957e7"
      },
      "source": [
        "type (s1)"
      ],
      "execution_count": null,
      "outputs": [
        {
          "output_type": "execute_result",
          "data": {
            "text/plain": [
              "str"
            ]
          },
          "metadata": {
            "tags": []
          },
          "execution_count": 16
        }
      ]
    },
    {
      "cell_type": "code",
      "metadata": {
        "colab": {
          "base_uri": "https://localhost:8080/",
          "height": 35
        },
        "id": "u1XkBXwF0Hb1",
        "outputId": "d3e16bc4-d897-4ef2-8cb4-3896101f054e"
      },
      "source": [
        "s2 = \"This is a string in double qoutes!!\"\n",
        "s2\n"
      ],
      "execution_count": null,
      "outputs": [
        {
          "output_type": "execute_result",
          "data": {
            "application/vnd.google.colaboratory.intrinsic+json": {
              "type": "string"
            },
            "text/plain": [
              "'This is a string in double qoutes!!'"
            ]
          },
          "metadata": {
            "tags": []
          },
          "execution_count": 11
        }
      ]
    },
    {
      "cell_type": "code",
      "metadata": {
        "colab": {
          "base_uri": "https://localhost:8080/"
        },
        "id": "FgNE4x260xOY",
        "outputId": "582bd7d4-9b26-4f38-b1bf-cbfc250d31e1"
      },
      "source": [
        "type (s2)"
      ],
      "execution_count": null,
      "outputs": [
        {
          "output_type": "execute_result",
          "data": {
            "text/plain": [
              "str"
            ]
          },
          "metadata": {
            "tags": []
          },
          "execution_count": 15
        }
      ]
    },
    {
      "cell_type": "code",
      "metadata": {
        "colab": {
          "base_uri": "https://localhost:8080/",
          "height": 35
        },
        "id": "vOfZm8-d0KCC",
        "outputId": "d9af6146-cffc-4972-9ce0-c86061cef35e"
      },
      "source": [
        "s3 = '''You know? \n",
        "This is a multiple line  \n",
        "string!  \n",
        "Yes, written within 3 qoutes!!!'''\n",
        "s3\n"
      ],
      "execution_count": null,
      "outputs": [
        {
          "output_type": "execute_result",
          "data": {
            "application/vnd.google.colaboratory.intrinsic+json": {
              "type": "string"
            },
            "text/plain": [
              "'You know? \\nThis is a multiple line  \\nstring!  \\nYes, written within 3 qoutes!!!'"
            ]
          },
          "metadata": {
            "tags": []
          },
          "execution_count": 13
        }
      ]
    },
    {
      "cell_type": "code",
      "metadata": {
        "id": "k4ys8WNU0rMj"
      },
      "source": [
        "type(s3)"
      ],
      "execution_count": null,
      "outputs": []
    },
    {
      "cell_type": "markdown",
      "metadata": {
        "id": "hJjxa00ECAQO"
      },
      "source": [
        "**Extracting individual characters**"
      ]
    },
    {
      "cell_type": "code",
      "metadata": {
        "id": "XesfstP7YxVv",
        "colab": {
          "base_uri": "https://localhost:8080/",
          "height": 35
        },
        "outputId": "3ed93bf9-0964-4bc4-f05a-4830ac5fb19e"
      },
      "source": [
        "my_string=\"My name is John\"\n",
        "my_string[0]"
      ],
      "execution_count": null,
      "outputs": [
        {
          "output_type": "execute_result",
          "data": {
            "application/vnd.google.colaboratory.intrinsic+json": {
              "type": "string"
            },
            "text/plain": [
              "'M'"
            ]
          },
          "metadata": {
            "tags": []
          },
          "execution_count": 24
        }
      ]
    },
    {
      "cell_type": "code",
      "metadata": {
        "id": "WQbau0lSYxVv",
        "colab": {
          "base_uri": "https://localhost:8080/",
          "height": 35
        },
        "outputId": "7f6dd566-3fd8-4087-fd8d-0a33d38f0db6"
      },
      "source": [
        "my_string=\"My name is John\"\n",
        "my_string[-1]"
      ],
      "execution_count": null,
      "outputs": [
        {
          "output_type": "execute_result",
          "data": {
            "application/vnd.google.colaboratory.intrinsic+json": {
              "type": "string"
            },
            "text/plain": [
              "'n'"
            ]
          },
          "metadata": {
            "tags": []
          },
          "execution_count": 23
        }
      ]
    },
    {
      "cell_type": "code",
      "metadata": {
        "id": "GSklZZC9YxVw",
        "colab": {
          "base_uri": "https://localhost:8080/",
          "height": 35
        },
        "outputId": "e7269a46-dc29-44ea-923f-cce5f6702cc5"
      },
      "source": [
        "my_string[0:5] \n",
        "#extracting multiple charcters so for that we need to specify the index of the character from where we want to start then follow it by : then followed by the n+1 \n",
        "#where n is the index of the last element that we want to display"
      ],
      "execution_count": null,
      "outputs": [
        {
          "output_type": "execute_result",
          "data": {
            "application/vnd.google.colaboratory.intrinsic+json": {
              "type": "string"
            },
            "text/plain": [
              "'My na'"
            ]
          },
          "metadata": {
            "tags": []
          },
          "execution_count": 27
        }
      ]
    },
    {
      "cell_type": "code",
      "metadata": {
        "colab": {
          "base_uri": "https://localhost:8080/",
          "height": 35
        },
        "id": "e0nko30aAIDu",
        "outputId": "86606e27-afb7-463a-daee-6301826aa59e"
      },
      "source": [
        "my_string[11:15] "
      ],
      "execution_count": null,
      "outputs": [
        {
          "output_type": "execute_result",
          "data": {
            "application/vnd.google.colaboratory.intrinsic+json": {
              "type": "string"
            },
            "text/plain": [
              "'John'"
            ]
          },
          "metadata": {
            "tags": []
          },
          "execution_count": 28
        }
      ]
    },
    {
      "cell_type": "markdown",
      "metadata": {
        "id": "xUeXWZcwAR4G"
      },
      "source": [
        "**The String functions in python are as follows!**\n",
        "\n",
        "\n",
        "1. len()\n",
        "2. lower()\n",
        "3. upper()\n",
        "4. replace()\n",
        "5. count()\n",
        "6. find()\n",
        "7. split()\n"
      ]
    },
    {
      "cell_type": "code",
      "metadata": {
        "id": "RspeVqOGYxVw"
      },
      "source": [
        "len(my_string)"
      ],
      "execution_count": null,
      "outputs": []
    },
    {
      "cell_type": "code",
      "metadata": {
        "id": "_geL3-XqYxVw"
      },
      "source": [
        "my_string.lower()"
      ],
      "execution_count": null,
      "outputs": []
    },
    {
      "cell_type": "code",
      "metadata": {
        "id": "eZUhb0T0YxVw"
      },
      "source": [
        "my_string.upper()"
      ],
      "execution_count": null,
      "outputs": []
    },
    {
      "cell_type": "markdown",
      "metadata": {
        "id": "_T44ZZPoHs5D"
      },
      "source": [
        "**Replacing charaters and counting the occurance of a char/ a word/ a string**"
      ]
    },
    {
      "cell_type": "code",
      "metadata": {
        "id": "SsoOymoTYxVw",
        "colab": {
          "base_uri": "https://localhost:8080/",
          "height": 35
        },
        "outputId": "3ec93240-d599-42cc-d085-930e6ff1ee5b"
      },
      "source": [
        "my_string.replace('y','ah')"
      ],
      "execution_count": null,
      "outputs": [
        {
          "output_type": "execute_result",
          "data": {
            "application/vnd.google.colaboratory.intrinsic+json": {
              "type": "string"
            },
            "text/plain": [
              "'Mah name is John'"
            ]
          },
          "metadata": {
            "tags": []
          },
          "execution_count": 29
        }
      ]
    },
    {
      "cell_type": "code",
      "metadata": {
        "colab": {
          "base_uri": "https://localhost:8080/",
          "height": 52
        },
        "id": "XNtlknIFJzWM",
        "outputId": "7fa1a35d-a43f-47b3-8097-3067c00f5511"
      },
      "source": [
        "new_string = '''She was young the way an actual young person is young.\n",
        "She was young the way an actual young person is young.\n",
        "She was young the way an actual young person is young.\n",
        "She was young the way an actual young person is young.\n",
        "She was young the way an actual young person is young.\n",
        "She was young the way an actual young person is young.'''\n",
        "new_string.replace('She','He')"
      ],
      "execution_count": null,
      "outputs": [
        {
          "output_type": "execute_result",
          "data": {
            "application/vnd.google.colaboratory.intrinsic+json": {
              "type": "string"
            },
            "text/plain": [
              "'He was young the way an actual young person is young.\\nHe was young the way an actual young person is young.\\nHe was young the way an actual young person is young.\\nHe was young the way an actual young person is young.\\nHe was young the way an actual young person is young.\\nHe was young the way an actual young person is young.'"
            ]
          },
          "metadata": {
            "tags": []
          },
          "execution_count": 39
        }
      ]
    },
    {
      "cell_type": "code",
      "metadata": {
        "id": "IQQLNEspYxVx",
        "colab": {
          "base_uri": "https://localhost:8080/"
        },
        "outputId": "813098f0-40bc-4502-a256-f6d47c91a97c"
      },
      "source": [
        "new_string = \"hello hello world\"\n",
        "new_string.count(\"l\")"
      ],
      "execution_count": null,
      "outputs": [
        {
          "output_type": "execute_result",
          "data": {
            "text/plain": [
              "5"
            ]
          },
          "metadata": {
            "tags": []
          },
          "execution_count": 34
        }
      ]
    },
    {
      "cell_type": "code",
      "metadata": {
        "colab": {
          "base_uri": "https://localhost:8080/"
        },
        "id": "oLk8yVXFIX-p",
        "outputId": "01eb4475-9c1e-47fd-dab1-6ab1ecea6aea"
      },
      "source": [
        "new_string = '''Nory was a Catholic because her mother was a Catholic, \n",
        "and Nory’s mother was a Catholic because her father was a Catholic, \n",
        "and her father was a Catholic because his mother was a Catholic, or had been.'''\n",
        "new_string.count(\"Catholic\")"
      ],
      "execution_count": null,
      "outputs": [
        {
          "output_type": "execute_result",
          "data": {
            "text/plain": [
              "6"
            ]
          },
          "metadata": {
            "tags": []
          },
          "execution_count": 36
        }
      ]
    },
    {
      "cell_type": "code",
      "metadata": {
        "colab": {
          "base_uri": "https://localhost:8080/"
        },
        "id": "YhTRVccbJV1G",
        "outputId": "41dadb19-6c38-46c5-d905-de0ef0565062"
      },
      "source": [
        "new_string = '''She was young the way an actual young person is young.\n",
        "She was young the way an actual young person is young.\n",
        "She was young the way an actual young person is young.\n",
        "She was young the way an actual young person is young.\n",
        "She was young the way an actual young person is young.\n",
        "She was young the way an actual young person is young.'''\n",
        "new_string.count(\"She was\")\n"
      ],
      "execution_count": null,
      "outputs": [
        {
          "output_type": "execute_result",
          "data": {
            "text/plain": [
              "6"
            ]
          },
          "metadata": {
            "tags": []
          },
          "execution_count": 38
        }
      ]
    },
    {
      "cell_type": "markdown",
      "metadata": {
        "id": "BcwwEVASI5U2"
      },
      "source": [
        "**Finding the index of a substring and the split method**"
      ]
    },
    {
      "cell_type": "code",
      "metadata": {
        "id": "AKI8dJ-CYxVx",
        "colab": {
          "base_uri": "https://localhost:8080/"
        },
        "outputId": "5df212be-e522-4a99-e5e1-653adf2cc8c7"
      },
      "source": [
        "s1 = 'This is sparta!!!'\n",
        "s1.find('sparta')\n",
        "# here the output is 8 bcoz the index from where the sub-string sparta starts is 8\n",
        "#Hence the output is 8"
      ],
      "execution_count": null,
      "outputs": [
        {
          "output_type": "execute_result",
          "data": {
            "text/plain": [
              "8"
            ]
          },
          "metadata": {
            "tags": []
          },
          "execution_count": 41
        }
      ]
    },
    {
      "cell_type": "code",
      "metadata": {
        "id": "C-RTskXyYxVx"
      },
      "source": [
        "s1.find('b')\n",
        "#since b is not found in s1"
      ],
      "execution_count": null,
      "outputs": []
    },
    {
      "cell_type": "code",
      "metadata": {
        "id": "xnkWgi4KYxVx"
      },
      "source": [
        "fruit = 'I like apples, mangoes, bananas'\n",
        "fruit.split(',')"
      ],
      "execution_count": null,
      "outputs": []
    },
    {
      "cell_type": "markdown",
      "metadata": {
        "id": "HQtEEHTzZtc_"
      },
      "source": [
        "**Tuples in Python**"
      ]
    },
    {
      "cell_type": "code",
      "metadata": {
        "id": "CEbJj4OTYxVx",
        "colab": {
          "base_uri": "https://localhost:8080/"
        },
        "outputId": "8f346af5-59a6-45e9-eff9-a41506a6eb69"
      },
      "source": [
        "tup1=(1,\"a\",True,2,\"b\",False)\n",
        "tup1"
      ],
      "execution_count": null,
      "outputs": [
        {
          "output_type": "execute_result",
          "data": {
            "text/plain": [
              "(1, 'a', True, 2, 'b', False)"
            ]
          },
          "metadata": {
            "tags": []
          },
          "execution_count": 47
        }
      ]
    },
    {
      "cell_type": "code",
      "metadata": {
        "id": "JwCoIzjSYxVz",
        "colab": {
          "base_uri": "https://localhost:8080/"
        },
        "outputId": "fed388a9-bcc0-40a5-a3dd-2ba9fcc2af54"
      },
      "source": [
        "type(tup1)"
      ],
      "execution_count": null,
      "outputs": [
        {
          "output_type": "execute_result",
          "data": {
            "text/plain": [
              "tuple"
            ]
          },
          "metadata": {
            "tags": []
          },
          "execution_count": 60
        }
      ]
    },
    {
      "cell_type": "code",
      "metadata": {
        "id": "r_D4T05kYxVy"
      },
      "source": [
        "tup1[2]"
      ],
      "execution_count": null,
      "outputs": []
    },
    {
      "cell_type": "code",
      "metadata": {
        "id": "RPzBMynoYxVy"
      },
      "source": [
        "tup1[0]"
      ],
      "execution_count": null,
      "outputs": []
    },
    {
      "cell_type": "code",
      "metadata": {
        "id": "_vjI0lvZYxVy"
      },
      "source": [
        "tup1[-1]"
      ],
      "execution_count": null,
      "outputs": []
    },
    {
      "cell_type": "code",
      "metadata": {
        "id": "AeLXxK_3YxVy"
      },
      "source": [
        "tup1=(1,\"a\",True,2,\"b\",False)\n",
        "tup1[1:4]\n",
        "#items from index 1 to index 3\n",
        "#here also n+1"
      ],
      "execution_count": null,
      "outputs": []
    },
    {
      "cell_type": "code",
      "metadata": {
        "id": "Rz9ypdksYxVy",
        "colab": {
          "base_uri": "https://localhost:8080/"
        },
        "outputId": "d412c40a-c6f1-4930-bbde-aba05d52a58a"
      },
      "source": [
        "tup1[1:4]"
      ],
      "execution_count": null,
      "outputs": [
        {
          "output_type": "execute_result",
          "data": {
            "text/plain": [
              "('a', True, 2)"
            ]
          },
          "metadata": {
            "tags": []
          },
          "execution_count": 54
        }
      ]
    },
    {
      "cell_type": "code",
      "metadata": {
        "id": "HVYjWS0zYxVy"
      },
      "source": [
        "tup1=(1,\"a\",True,2,\"b\",False)\n",
        "tup1[2]=\"hello\"\n",
        "#This is because Tuples are immutable i.e. we can't change the values later on during the program or even in execution time"
      ],
      "execution_count": null,
      "outputs": []
    },
    {
      "cell_type": "code",
      "metadata": {
        "id": "0-G8aPciYxVz"
      },
      "source": [
        "tup1[6]=3+4j\n",
        "#This is because Tuples are immutable i.e. we can't change the values later on during the program or even in execution time"
      ],
      "execution_count": null,
      "outputs": []
    },
    {
      "cell_type": "markdown",
      "metadata": {
        "id": "FzCAfoWgreH3"
      },
      "source": [
        "**Operations with Tuple**"
      ]
    },
    {
      "cell_type": "code",
      "metadata": {
        "id": "qS_ycCmgYxVz"
      },
      "source": [
        "min(tup1)\n",
        "#Since here we have heterogenous elements so min operation can't be done!"
      ],
      "execution_count": null,
      "outputs": []
    },
    {
      "cell_type": "code",
      "metadata": {
        "id": "X33QWUZPYxVz",
        "outputId": "3e449edf-c43c-4040-88c0-d60aed2beb29"
      },
      "source": [
        "tup1=(1,\"a\",True,2,\"b\",False)\n",
        "len(tup1)\n",
        "#finding the length of a tuple"
      ],
      "execution_count": null,
      "outputs": [
        {
          "output_type": "execute_result",
          "data": {
            "text/plain": [
              "6"
            ]
          },
          "metadata": {
            "tags": []
          },
          "execution_count": 24
        }
      ]
    },
    {
      "cell_type": "code",
      "metadata": {
        "id": "1Y6gDz0cYxVz"
      },
      "source": [
        "tup1 = (1,\"a\",True) #re-defining the tuples with new vales but not changing the values!!\n",
        "tup2 = (4,5,6)\n",
        "tup2+tup1\n",
        "#concatination "
      ],
      "execution_count": null,
      "outputs": []
    },
    {
      "cell_type": "markdown",
      "metadata": {
        "id": "QsEx-gZjujYJ"
      },
      "source": [
        "**Repeating the elements of the tuple** [for that we can simply multiply the tuple with a specific number] \n",
        "\n",
        "**Repeating and concatinating another tuple**"
      ]
    },
    {
      "cell_type": "code",
      "metadata": {
        "id": "1t3nnZeRYxV0",
        "colab": {
          "base_uri": "https://localhost:8080/"
        },
        "outputId": "431ccfc9-8340-4807-e2a6-7b70af0329d9"
      },
      "source": [
        "tup1 = ('sparta',300)\n",
        "tup2 = (4,5,6)\n",
        "tup1*4 + tup2"
      ],
      "execution_count": 62,
      "outputs": [
        {
          "output_type": "execute_result",
          "data": {
            "text/plain": [
              "('sparta', 300, 'sparta', 300, 'sparta', 300, 'sparta', 300, 4, 5, 6)"
            ]
          },
          "metadata": {
            "tags": []
          },
          "execution_count": 62
        }
      ]
    },
    {
      "cell_type": "markdown",
      "metadata": {
        "id": "bo0VvPqLwcKl"
      },
      "source": [
        "**Tuple Functions**"
      ]
    },
    {
      "cell_type": "code",
      "metadata": {
        "id": "l8jMpN8MYxV0",
        "colab": {
          "base_uri": "https://localhost:8080/"
        },
        "outputId": "143f1de9-8dcf-423f-a48a-434cf236e4bd"
      },
      "source": [
        "tup1=(1,2,3,4,5)\n",
        "min(tup1)\n",
        "#because here all the elements are of the same type"
      ],
      "execution_count": 63,
      "outputs": [
        {
          "output_type": "execute_result",
          "data": {
            "text/plain": [
              "1"
            ]
          },
          "metadata": {
            "tags": []
          },
          "execution_count": 63
        }
      ]
    },
    {
      "cell_type": "code",
      "metadata": {
        "id": "nzY1A2gqYxV0",
        "colab": {
          "base_uri": "https://localhost:8080/"
        },
        "outputId": "8a32c360-2692-4f7c-8391-b6db8aa4f68f"
      },
      "source": [
        "tup1=(1,2,3,4,5)\n",
        "max(tup1)"
      ],
      "execution_count": 66,
      "outputs": [
        {
          "output_type": "execute_result",
          "data": {
            "text/plain": [
              "5"
            ]
          },
          "metadata": {
            "tags": []
          },
          "execution_count": 66
        }
      ]
    },
    {
      "cell_type": "code",
      "metadata": {
        "id": "4IoneT5lYxV0",
        "outputId": "3668a3ac-e43e-47c2-8ff5-a26fa82375f7"
      },
      "source": [
        "cmp(tup1,tup2)\n",
        "\n",
        "#https://www.geeksforgeeks.org/python-2-number-cmplist-method/\n"
      ],
      "execution_count": null,
      "outputs": [
        {
          "output_type": "error",
          "ename": "NameError",
          "evalue": "name 'cmp' is not defined",
          "traceback": [
            "\u001b[1;31m---------------------------------------------------------------------------\u001b[0m",
            "\u001b[1;31mNameError\u001b[0m                                 Traceback (most recent call last)",
            "\u001b[1;32m<ipython-input-34-e27d9faf1f7f>\u001b[0m in \u001b[0;36m<module>\u001b[1;34m\u001b[0m\n\u001b[1;32m----> 1\u001b[1;33m \u001b[0mcmp\u001b[0m\u001b[1;33m(\u001b[0m\u001b[0mtup1\u001b[0m\u001b[1;33m,\u001b[0m\u001b[0mtup2\u001b[0m\u001b[1;33m)\u001b[0m\u001b[1;33m\u001b[0m\u001b[1;33m\u001b[0m\u001b[0m\n\u001b[0m",
            "\u001b[1;31mNameError\u001b[0m: name 'cmp' is not defined"
          ]
        }
      ]
    },
    {
      "cell_type": "markdown",
      "metadata": {
        "id": "JGYR7TRNxMfb"
      },
      "source": [
        "**cmp() is a method specified in Number in Python 2.**\n",
        "The comparison of integral numbers have been discussed using cmp().\n",
        "This function takes 2 lists as input and checks if the first argument list is greater, equal or smaller than the second argument list.\n",
        "\n",
        "Syntax : cmp(list1, list2)\n",
        "\n",
        "Parameters :\n",
        "list1 : The first argument list to be compared.\n",
        "list2 : The second argument list to be compared.\n",
        "\n",
        "Returns : This function returns 1, if first list is “greater” than second list, -1 if first list is smaller than the second list else it returns 0 if both the lists are equal."
      ]
    },
    {
      "cell_type": "markdown",
      "metadata": {
        "id": "M1rKKrZsx8s5"
      },
      "source": [
        "**List in Python**"
      ]
    },
    {
      "cell_type": "code",
      "metadata": {
        "id": "3Wi4w7SaYxV0",
        "colab": {
          "base_uri": "https://localhost:8080/",
          "height": 35
        },
        "outputId": "10488891-febc-47d5-d0db-c3c363c55491"
      },
      "source": [
        "l1=[1,\"a\",2,\"banana\",3,\"c\"]\n",
        "l1[3]"
      ],
      "execution_count": 70,
      "outputs": [
        {
          "output_type": "execute_result",
          "data": {
            "application/vnd.google.colaboratory.intrinsic+json": {
              "type": "string"
            },
            "text/plain": [
              "'banana'"
            ]
          },
          "metadata": {
            "tags": []
          },
          "execution_count": 70
        }
      ]
    },
    {
      "cell_type": "code",
      "metadata": {
        "id": "-ir_Fp8kYxV1",
        "colab": {
          "base_uri": "https://localhost:8080/"
        },
        "outputId": "b71dacda-c615-4bdf-ab54-543be8990c38"
      },
      "source": [
        "l1=[1,\"a\",2,\"b\",(3+4j),\"c\"]\n",
        "l1[4]"
      ],
      "execution_count": 71,
      "outputs": [
        {
          "output_type": "execute_result",
          "data": {
            "text/plain": [
              "(3+4j)"
            ]
          },
          "metadata": {
            "tags": []
          },
          "execution_count": 71
        }
      ]
    },
    {
      "cell_type": "code",
      "metadata": {
        "colab": {
          "base_uri": "https://localhost:8080/",
          "height": 35
        },
        "id": "XErW8B3y0-A2",
        "outputId": "6f20694b-f753-4346-999d-1b403196a38c"
      },
      "source": [
        "l1=[1,\"a\",2,\"b\",(3+4j),\"c\"]\n",
        "l1[-1]"
      ],
      "execution_count": 72,
      "outputs": [
        {
          "output_type": "execute_result",
          "data": {
            "application/vnd.google.colaboratory.intrinsic+json": {
              "type": "string"
            },
            "text/plain": [
              "'c'"
            ]
          },
          "metadata": {
            "tags": []
          },
          "execution_count": 72
        }
      ]
    },
    {
      "cell_type": "code",
      "metadata": {
        "id": "EApgNMnEYxV1",
        "colab": {
          "base_uri": "https://localhost:8080/"
        },
        "outputId": "11d590eb-bfa4-492c-9cbb-74c1c44bf5df"
      },
      "source": [
        "l1=[1,\"a\",2,\"b\",3,\"c\"]\n",
        "l1[2:5]"
      ],
      "execution_count": 73,
      "outputs": [
        {
          "output_type": "execute_result",
          "data": {
            "text/plain": [
              "[2, 'b', 3]"
            ]
          },
          "metadata": {
            "tags": []
          },
          "execution_count": 73
        }
      ]
    },
    {
      "cell_type": "markdown",
      "metadata": {
        "id": "PSfHVjhQ0jHQ"
      },
      "source": [
        "**List is Mutable**\n",
        "1. Changing the element at 0th index\n",
        "2. Appending a new element (at the end of the list)\n",
        "3. Popping the last element"
      ]
    },
    {
      "cell_type": "code",
      "metadata": {
        "id": "_reU5u9wYxV1",
        "colab": {
          "base_uri": "https://localhost:8080/"
        },
        "outputId": "3015a645-e4ca-4b81-cbb1-443a2348714f"
      },
      "source": [
        "l1=[1,\"a\",2,\"b\",3,\"c\"]\n",
        "l1[0]=100 #modification done here in the list\n",
        "l1"
      ],
      "execution_count": 75,
      "outputs": [
        {
          "output_type": "execute_result",
          "data": {
            "text/plain": [
              "[100, 'a', 2, 'b', 3, 'c']"
            ]
          },
          "metadata": {
            "tags": []
          },
          "execution_count": 75
        }
      ]
    },
    {
      "cell_type": "code",
      "metadata": {
        "id": "2-jMZXuJYxV1",
        "colab": {
          "base_uri": "https://localhost:8080/"
        },
        "outputId": "29a832a1-dc24-44c0-eae3-78fb393627a6"
      },
      "source": [
        "l1"
      ],
      "execution_count": 76,
      "outputs": [
        {
          "output_type": "execute_result",
          "data": {
            "text/plain": [
              "[100, 'a', 2, 'b', 3, 'c']"
            ]
          },
          "metadata": {
            "tags": []
          },
          "execution_count": 76
        }
      ]
    },
    {
      "cell_type": "code",
      "metadata": {
        "id": "3NOzwEoKYxV1",
        "colab": {
          "base_uri": "https://localhost:8080/"
        },
        "outputId": "7183fa2a-5346-4462-9250-e949d58169fe"
      },
      "source": [
        "l1=[1,\"a\",2,\"b\",3,\"c\"]\n",
        "l1.append(\"Sparta\")\n",
        "l1"
      ],
      "execution_count": 77,
      "outputs": [
        {
          "output_type": "execute_result",
          "data": {
            "text/plain": [
              "[1, 'a', 2, 'b', 3, 'c', 'Sparta']"
            ]
          },
          "metadata": {
            "tags": []
          },
          "execution_count": 77
        }
      ]
    },
    {
      "cell_type": "code",
      "metadata": {
        "id": "PvOqRkTFYxV1",
        "colab": {
          "base_uri": "https://localhost:8080/"
        },
        "outputId": "ea3978c9-1d7d-4fc0-a7a6-2c29464a2a14"
      },
      "source": [
        "l1=[1,\"a\",2,\"b\",3,\"c\"]\n",
        "l1.pop()\n",
        "l1"
      ],
      "execution_count": 78,
      "outputs": [
        {
          "output_type": "execute_result",
          "data": {
            "text/plain": [
              "[1, 'a', 2, 'b', 3]"
            ]
          },
          "metadata": {
            "tags": []
          },
          "execution_count": 78
        }
      ]
    },
    {
      "cell_type": "markdown",
      "metadata": {
        "id": "SQbedn083B9L"
      },
      "source": [
        "**Some functions on List**\n",
        "\n",
        "\n",
        "**1. Reversing elements of a list**\n",
        "\n",
        "**2. Inserting elemnts at a specified index**\n",
        "\n",
        "**3. Sorting a list**\n"
      ]
    },
    {
      "cell_type": "code",
      "metadata": {
        "colab": {
          "base_uri": "https://localhost:8080/"
        },
        "id": "QzkYILyC3BaO",
        "outputId": "d30c5609-22e0-4102-f439-de9d983eb1eb"
      },
      "source": [
        "l1=[1, 'abc', 267.1, 'lazy sloth bear', '009001']\n",
        "l1.reverse()\n",
        "l1"
      ],
      "execution_count": 81,
      "outputs": [
        {
          "output_type": "execute_result",
          "data": {
            "text/plain": [
              "['009001', 'lazy sloth bear', 267.1, 'abc', 1]"
            ]
          },
          "metadata": {
            "tags": []
          },
          "execution_count": 81
        }
      ]
    },
    {
      "cell_type": "code",
      "metadata": {
        "id": "qH6jzRWXYxV2",
        "colab": {
          "base_uri": "https://localhost:8080/"
        },
        "outputId": "3d67eeac-43d5-44ec-bcca-2f2dd9a5ea3f"
      },
      "source": [
        "l1=[1,\"a\",2,\"b\",3,\"c\"]\n",
        "l1.insert(1,\"Sparta\") \n",
        "#specify the location at the first parameter \n",
        "#then the element that you want to add/insert\n",
        "l1"
      ],
      "execution_count": 83,
      "outputs": [
        {
          "output_type": "execute_result",
          "data": {
            "text/plain": [
              "[1, 'Sparta', 'a', 2, 'b', 3, 'c']"
            ]
          },
          "metadata": {
            "tags": []
          },
          "execution_count": 83
        }
      ]
    },
    {
      "cell_type": "code",
      "metadata": {
        "id": "BAaCPSz8YxV2",
        "outputId": "cb2d6738-5382-473b-ea98-840d6753afb0"
      },
      "source": [
        "l1 = [\"mango\",\"banana\",\"guava\",\"apple\"]\n",
        "l1.sort()\n",
        "l1"
      ],
      "execution_count": null,
      "outputs": [
        {
          "output_type": "execute_result",
          "data": {
            "text/plain": [
              "['apple', 'banana', 'guava', 'mango']"
            ]
          },
          "metadata": {
            "tags": []
          },
          "execution_count": 43
        }
      ]
    },
    {
      "cell_type": "markdown",
      "metadata": {
        "id": "uMdmCeC254bn"
      },
      "source": [
        "**List Operations**\n",
        "\n",
        "**1. Concatenating Lists**\n",
        "\n",
        "**2. Repeating the elements of the list**"
      ]
    },
    {
      "cell_type": "code",
      "metadata": {
        "id": "T5f_olniYxV2",
        "colab": {
          "base_uri": "https://localhost:8080/"
        },
        "outputId": "56acb430-52f4-4907-d6ea-e2a38b51a48b"
      },
      "source": [
        "l1 = [1,2,3]\n",
        "l2 = [\"a\",\"b\",\"c\"]\n",
        "l1+l2"
      ],
      "execution_count": 91,
      "outputs": [
        {
          "output_type": "execute_result",
          "data": {
            "text/plain": [
              "[1, 2, 3, 'a', 'b', 'c']"
            ]
          },
          "metadata": {
            "tags": []
          },
          "execution_count": 91
        }
      ]
    },
    {
      "cell_type": "code",
      "metadata": {
        "colab": {
          "base_uri": "https://localhost:8080/"
        },
        "id": "UNDXiOAV7uyg",
        "outputId": "fc7766df-9963-452b-b7e0-f33f67400ef9"
      },
      "source": [
        "l2+l1"
      ],
      "execution_count": 92,
      "outputs": [
        {
          "output_type": "execute_result",
          "data": {
            "text/plain": [
              "['a', 'b', 'c', 1, 2, 3]"
            ]
          },
          "metadata": {
            "tags": []
          },
          "execution_count": 92
        }
      ]
    },
    {
      "cell_type": "code",
      "metadata": {
        "id": "Y3TV56x8YxV2",
        "outputId": "0918379b-69f4-4d0b-c374-c8130230b32e"
      },
      "source": [
        "l1 = [1,\"a\",True]\n",
        "l1*3"
      ],
      "execution_count": null,
      "outputs": [
        {
          "output_type": "execute_result",
          "data": {
            "text/plain": [
              "[1, 'a', True, 1, 'a', True, 1, 'a', True]"
            ]
          },
          "metadata": {
            "tags": []
          },
          "execution_count": 45
        }
      ]
    },
    {
      "cell_type": "code",
      "metadata": {
        "colab": {
          "base_uri": "https://localhost:8080/"
        },
        "id": "hVgSyHpI7IJA",
        "outputId": "33d2b62a-2055-4e50-f5a7-a0788b0a63a7"
      },
      "source": [
        "l1 = [1,\"a\",True]\n",
        "l2 = [\"cat\",\"ball\",\"ACE\"]\n",
        "l1*3+l2"
      ],
      "execution_count": 89,
      "outputs": [
        {
          "output_type": "execute_result",
          "data": {
            "text/plain": [
              "[1, 'a', True, 1, 'a', True, 1, 'a', True, 'cat', 'ball', 'ACE']"
            ]
          },
          "metadata": {
            "tags": []
          },
          "execution_count": 89
        }
      ]
    },
    {
      "cell_type": "markdown",
      "metadata": {
        "id": "akMLot6-7fS2"
      },
      "source": [
        "**Dictionary in Python**"
      ]
    },
    {
      "cell_type": "code",
      "metadata": {
        "id": "LgEOkuumYxV3"
      },
      "source": [
        "fruit={\"Apple\":10,\"Orange\":20,\"Banana\":30,\"Guava\":40}"
      ],
      "execution_count": 93,
      "outputs": []
    },
    {
      "cell_type": "code",
      "metadata": {
        "id": "7-gWFj94YxV3",
        "colab": {
          "base_uri": "https://localhost:8080/"
        },
        "outputId": "5d944cfd-6b81-469c-ef62-e05f3f93b8ac"
      },
      "source": [
        "type(fruit)"
      ],
      "execution_count": 94,
      "outputs": [
        {
          "output_type": "execute_result",
          "data": {
            "text/plain": [
              "dict"
            ]
          },
          "metadata": {
            "tags": []
          },
          "execution_count": 94
        }
      ]
    },
    {
      "cell_type": "markdown",
      "metadata": {
        "id": "MdujGYCNDIW_"
      },
      "source": [
        "**Extracting Keys**"
      ]
    },
    {
      "cell_type": "code",
      "metadata": {
        "id": "UXKVPbp5YxV3",
        "colab": {
          "base_uri": "https://localhost:8080/"
        },
        "outputId": "dab00cf6-489e-445c-b49a-b8744bb5244e"
      },
      "source": [
        "fruit={\"Apple\":10,\"Orange\":20,\"Banana\":30,\"Guava\":40}\n",
        "fruit.keys()"
      ],
      "execution_count": 95,
      "outputs": [
        {
          "output_type": "execute_result",
          "data": {
            "text/plain": [
              "dict_keys(['Apple', 'Orange', 'Banana', 'Guava'])"
            ]
          },
          "metadata": {
            "tags": []
          },
          "execution_count": 95
        }
      ]
    },
    {
      "cell_type": "markdown",
      "metadata": {
        "id": "WCAiMHbVDVMp"
      },
      "source": [
        "**Extracting Values**"
      ]
    },
    {
      "cell_type": "code",
      "metadata": {
        "id": "qsUIVHhNYxV3",
        "colab": {
          "base_uri": "https://localhost:8080/"
        },
        "outputId": "4dfe9ddd-a0a0-4c67-82e0-32ca977ab031"
      },
      "source": [
        "fruit={\"Apple\":10,\"Orange\":20,\"Banana\":30,\"Guava\":40}\n",
        "fruit.values()"
      ],
      "execution_count": 96,
      "outputs": [
        {
          "output_type": "execute_result",
          "data": {
            "text/plain": [
              "dict_values([10, 20, 30, 40])"
            ]
          },
          "metadata": {
            "tags": []
          },
          "execution_count": 96
        }
      ]
    },
    {
      "cell_type": "code",
      "metadata": {
        "id": "92fVH4M7YxV3",
        "colab": {
          "base_uri": "https://localhost:8080/"
        },
        "outputId": "31626250-c6a2-4b93-ed91-629baf78418c"
      },
      "source": [
        "fruit[\"Apple\"] #Accessing individual values"
      ],
      "execution_count": 97,
      "outputs": [
        {
          "output_type": "execute_result",
          "data": {
            "text/plain": [
              "10"
            ]
          },
          "metadata": {
            "tags": []
          },
          "execution_count": 97
        }
      ]
    },
    {
      "cell_type": "markdown",
      "metadata": {
        "id": "FqkmUUEyD7cR"
      },
      "source": [
        "**Extracting Items**"
      ]
    },
    {
      "cell_type": "code",
      "metadata": {
        "colab": {
          "base_uri": "https://localhost:8080/"
        },
        "id": "vGJjKE7FECH2",
        "outputId": "082b7276-6bad-4685-cda5-ead24586226d"
      },
      "source": [
        "fruit={\"Apple\":10,\"Orange\":20,\"Banana\":30,\"Guava\":40}\n",
        "fruit.items()"
      ],
      "execution_count": 98,
      "outputs": [
        {
          "output_type": "execute_result",
          "data": {
            "text/plain": [
              "dict_items([('Apple', 10), ('Orange', 20), ('Banana', 30), ('Guava', 40)])"
            ]
          },
          "metadata": {
            "tags": []
          },
          "execution_count": 98
        }
      ]
    },
    {
      "cell_type": "markdown",
      "metadata": {
        "id": "xkLQye82FAtm"
      },
      "source": [
        "**Modyfying a Dictionary**"
      ]
    },
    {
      "cell_type": "markdown",
      "metadata": {
        "id": "ndtEwkOZEWZ9"
      },
      "source": [
        "**Adding a new element**"
      ]
    },
    {
      "cell_type": "code",
      "metadata": {
        "id": "nuw0txJsYxV3",
        "outputId": "1cd98165-c2d3-4fb6-d476-6ce884884e3f"
      },
      "source": [
        "fruit={\"Apple\":10,\"Orange\":20,\"Banana\":30,\"Guava\":40}\n",
        "fruit[\"Mango\"]=50\n",
        "fruit"
      ],
      "execution_count": null,
      "outputs": [
        {
          "output_type": "execute_result",
          "data": {
            "text/plain": [
              "{'Apple': 10, 'Orange': 20, 'Banana': 30, 'Guava': 40, 'Mango': 50}"
            ]
          },
          "metadata": {
            "tags": []
          },
          "execution_count": 2
        }
      ]
    },
    {
      "cell_type": "markdown",
      "metadata": {
        "id": "mPGmnbN_Ehii"
      },
      "source": [
        "**Changing an existing element**"
      ]
    },
    {
      "cell_type": "code",
      "metadata": {
        "id": "shPi9njpYxV4",
        "colab": {
          "base_uri": "https://localhost:8080/"
        },
        "outputId": "d37cf916-774d-4e2a-8bec-4a56f67ca821"
      },
      "source": [
        "fruit={\"Apple\":10,\"Orange\":20,\"Banana\":30,\"Guava\":40,\"Mango\":50}\n",
        "fruit[\"Apple\"]=100 \n",
        "fruit[\"Banana\"]=362\n",
        "fruit"
      ],
      "execution_count": 100,
      "outputs": [
        {
          "output_type": "execute_result",
          "data": {
            "text/plain": [
              "{'Apple': 100, 'Banana': 362, 'Guava': 40, 'Mango': 50, 'Orange': 20}"
            ]
          },
          "metadata": {
            "tags": []
          },
          "execution_count": 100
        }
      ]
    },
    {
      "cell_type": "markdown",
      "metadata": {
        "id": "ECZOmK9pFq4v"
      },
      "source": [
        "**Dictionary Functions**\n",
        "\n",
        "**Updating 1 Dictionary's elements with another**"
      ]
    },
    {
      "cell_type": "code",
      "metadata": {
        "id": "UrUcPIAtYxV4",
        "outputId": "8f958991-2316-4318-949b-ffc14b65e37c"
      },
      "source": [
        "fruit1={\"Apple\":10,\"Orange\":20}\n",
        "fruit2={\"Banana\":30,\"Guava\":40}\n",
        "\n",
        "fruit1.update(fruit2)\n",
        "\n",
        "fruit1"
      ],
      "execution_count": null,
      "outputs": [
        {
          "output_type": "execute_result",
          "data": {
            "text/plain": [
              "{'Apple': 10, 'Orange': 20, 'Banana': 30, 'Guava': 40}"
            ]
          },
          "metadata": {
            "tags": []
          },
          "execution_count": 4
        }
      ]
    },
    {
      "cell_type": "markdown",
      "metadata": {
        "id": "pdVNwOwmGDYg"
      },
      "source": [
        "**Popping an element**"
      ]
    },
    {
      "cell_type": "code",
      "metadata": {
        "id": "TmPaDLSCYxV4",
        "outputId": "2fda243b-594f-4f37-cfd3-2e7e46c06d3b"
      },
      "source": [
        "fruit={\"Apple\":10,\"Orange\":20,\"Banana\":30,\"Guava\":40}\n",
        "fruit.pop(\"Orange\")\n",
        "fruit"
      ],
      "execution_count": null,
      "outputs": [
        {
          "output_type": "execute_result",
          "data": {
            "text/plain": [
              "{'Apple': 10, 'Banana': 30, 'Guava': 40}"
            ]
          },
          "metadata": {
            "tags": []
          },
          "execution_count": 6
        }
      ]
    },
    {
      "cell_type": "code",
      "metadata": {
        "id": "GbVwEcOxYxV4"
      },
      "source": [
        "#Set in Python"
      ],
      "execution_count": null,
      "outputs": []
    },
    {
      "cell_type": "code",
      "metadata": {
        "id": "bQFpb7opYxV4",
        "outputId": "9d7c34a8-a24d-4006-9dd6-f5751fcd607b"
      },
      "source": [
        "s1={1,\"a\",True,2,\"b\",False}\n",
        "s1"
      ],
      "execution_count": null,
      "outputs": [
        {
          "output_type": "execute_result",
          "data": {
            "text/plain": [
              "{1, 2, False, 'a', 'b'}"
            ]
          },
          "metadata": {
            "tags": []
          },
          "execution_count": 1
        }
      ]
    },
    {
      "cell_type": "code",
      "metadata": {
        "id": "hYUs7f_AYxV4",
        "outputId": "e3764995-162d-411b-f40d-96a3a60fa9b1"
      },
      "source": [
        "s1={1,\"a\",True,2,\"b\",False}\n",
        "s1.add(\"Hello\")\n",
        "s1"
      ],
      "execution_count": null,
      "outputs": [
        {
          "output_type": "execute_result",
          "data": {
            "text/plain": [
              "{1, 2, False, 'Hello', 'a', 'b'}"
            ]
          },
          "metadata": {
            "tags": []
          },
          "execution_count": 7
        }
      ]
    },
    {
      "cell_type": "code",
      "metadata": {
        "id": "7mDe3iZYYxV5",
        "outputId": "6177e9bd-a946-4f34-8bfc-ee5ae853eee0"
      },
      "source": [
        "s1={1,\"a\",True,2,\"b\",False}\n",
        "s1.update([10,20,30])\n",
        "s1"
      ],
      "execution_count": null,
      "outputs": [
        {
          "output_type": "execute_result",
          "data": {
            "text/plain": [
              "{1, 10, 2, 20, 30, False, 'a', 'b'}"
            ]
          },
          "metadata": {
            "tags": []
          },
          "execution_count": 8
        }
      ]
    },
    {
      "cell_type": "code",
      "metadata": {
        "id": "oJQce2GbYxV5",
        "outputId": "ead27f16-c797-420f-8aab-b7f8da4b7118"
      },
      "source": [
        "s1={1,\"a\",True,2,\"b\",False}\n",
        "s1.remove(\"b\")\n",
        "s1"
      ],
      "execution_count": null,
      "outputs": [
        {
          "output_type": "execute_result",
          "data": {
            "text/plain": [
              "{1, 2, False, 'a'}"
            ]
          },
          "metadata": {
            "tags": []
          },
          "execution_count": 9
        }
      ]
    },
    {
      "cell_type": "code",
      "metadata": {
        "id": "QsqBPT7RYxV5",
        "outputId": "3d974004-7328-4639-c285-5516f39055b5"
      },
      "source": [
        "s1 = {1,2,3,4,5,6}\n",
        "s2 = {5,6,7,8,9}\n",
        "\n",
        "s1.intersection(s2)"
      ],
      "execution_count": null,
      "outputs": [
        {
          "output_type": "execute_result",
          "data": {
            "text/plain": [
              "{5, 6}"
            ]
          },
          "metadata": {
            "tags": []
          },
          "execution_count": 13
        }
      ]
    },
    {
      "cell_type": "code",
      "metadata": {
        "id": "xioKZLC1YxV5"
      },
      "source": [
        ""
      ],
      "execution_count": null,
      "outputs": []
    }
  ]
}