{
  "nbformat": 4,
  "nbformat_minor": 0,
  "metadata": {
    "colab": {
      "name": "Project2 CabFarePrediction.ipynb",
      "provenance": [],
      "collapsed_sections": [],
      "authorship_tag": "ABX9TyPLZhuERTO707x5S6rrlGux",
      "include_colab_link": true
    },
    "kernelspec": {
      "name": "python3",
      "display_name": "Python 3"
    },
    "language_info": {
      "name": "python"
    }
  },
  "cells": [
    {
      "cell_type": "markdown",
      "metadata": {
        "id": "view-in-github",
        "colab_type": "text"
      },
      "source": [
        "<a href=\"https://colab.research.google.com/github/Kristina140699/DataScienceProjects/blob/main/Foundational/Project2_CabFarePrediction.ipynb\" target=\"_parent\"><img src=\"https://colab.research.google.com/assets/colab-badge.svg\" alt=\"Open In Colab\"/></a>"
      ]
    },
    {
      "cell_type": "code",
      "metadata": {
        "id": "B3kFm5C2P4ud"
      },
      "source": [
        "import pandas as pd\n",
        "from sklearn.linear_model import LinearRegression\n",
        "import numpy as np\n",
        "from matplotlib import pyplot as plt\n",
        "import seaborn as sns\n",
        "import itertools\n",
        "import gc\n",
        "import os\n",
        "import sys"
      ],
      "execution_count": 2,
      "outputs": []
    },
    {
      "cell_type": "code",
      "metadata": {
        "id": "ePWJwHk0axe1"
      },
      "source": [
        "def reduce_mem_usage(df):\n",
        "    \"\"\" iterate through all the columns of a dataframe and modify the data type\n",
        "        to reduce memory usage.        \n",
        "    \"\"\"\n",
        "    start_mem = df.memory_usage().sum() / 1024**2\n",
        "    print('Memory usage of dataframe is {:.2f} MB'.format(start_mem))\n",
        "    \n",
        "    for col in df.columns:\n",
        "        col_type = df[col].dtype\n",
        "        \n",
        "        if col_type != object:\n",
        "            c_min = df[col].min()\n",
        "            c_max = df[col].max()\n",
        "            if str(col_type)[:3] == 'int':\n",
        "                if c_min > np.iinfo(np.int8).min and c_max < np.iinfo(np.int8).max:\n",
        "                    df[col] = df[col].astype(np.int8)\n",
        "                elif c_min > np.iinfo(np.int16).min and c_max < np.iinfo(np.int16).max:\n",
        "                    df[col] = df[col].astype(np.int16)\n",
        "                elif c_min > np.iinfo(np.int32).min and c_max < np.iinfo(np.int32).max:\n",
        "                    df[col] = df[col].astype(np.int32)\n",
        "                elif c_min > np.iinfo(np.int64).min and c_max < np.iinfo(np.int64).max:\n",
        "                    df[col] = df[col].astype(np.int64)  \n",
        "            else:\n",
        "               # if c_min > np.finfo(np.float16).min and c_max < np.finfo(np.float16).max:\n",
        "                 #   df[col] = df[col].astype(np.float16)\n",
        "               # el\n",
        "              if c_min > np.finfo(np.float32).min and c_max < np.finfo(np.float32).max:\n",
        "                    df[col] = df[col].astype(np.float32)\n",
        "              else:\n",
        "                    df[col] = df[col].astype(np.float64)\n",
        "        #else:\n",
        "          #  df[col] = df[col].astype('category')\n",
        "\n",
        "    end_mem = df.memory_usage().sum() / 1024**2\n",
        "    print('Memory usage after optimization is: {:.2f} MB'.format(end_mem))\n",
        "    print('Decreased by {:.1f}%'.format(100 * (start_mem - end_mem) / start_mem))\n",
        "    \n",
        "    return df\n"
      ],
      "execution_count": 3,
      "outputs": []
    },
    {
      "cell_type": "code",
      "metadata": {
        "colab": {
          "base_uri": "https://localhost:8080/"
        },
        "id": "e59Y-fwguc4e",
        "outputId": "74d5f9a5-6513-45ec-d619-b2f4e7b6545d"
      },
      "source": [
        "#For taking the dataset from G-drive\n",
        "from google.colab import drive #mounting my G-drive to G-colab\n",
        "drive.mount('/content/drive')\n",
        "\n",
        "#For taking the dataset from device\n",
        "#from google.colab import files\n",
        "#uploaded = files.upload()\n"
      ],
      "execution_count": 1,
      "outputs": [
        {
          "output_type": "stream",
          "text": [
            "Mounted at /content/drive\n"
          ],
          "name": "stdout"
        }
      ]
    },
    {
      "cell_type": "code",
      "metadata": {
        "id": "Jh2eX-NBaYC1",
        "colab": {
          "base_uri": "https://localhost:8080/"
        },
        "outputId": "2028bcd2-6f2a-42fe-cbd9-50aac798d1e0"
      },
      "source": [
        "#Reading the data from the G-drive and directly assigning it to a pandas data frame\n",
        "wd=pd.read_csv(\"/content/drive/MyDrive/Learning..../Python/Project Final Copy/weather.csv\")\n",
        "wd = reduce_mem_usage(wd)\n",
        "\n",
        "#import io\n",
        "#wd = pd.read_csv(io.BytesIO(uploaded['weather.csv']))\n",
        "#This stores the Dataset in a Pandas Dataframe    "
      ],
      "execution_count": 4,
      "outputs": [
        {
          "output_type": "stream",
          "text": [
            "Memory usage of dataframe is 0.38 MB\n",
            "Memory usage after optimization is: 0.22 MB\n",
            "Decreased by 43.7%\n"
          ],
          "name": "stdout"
        }
      ]
    },
    {
      "cell_type": "code",
      "metadata": {
        "id": "cRPVj8qNaS3V"
      },
      "source": [
        "#Since the G-drive is laready mounted so no need to mount it again for the next dataset\n",
        "#But in case of uploading the dataset from device the following code needs to be run\n",
        "\n",
        "#from google.colab import files\n",
        "#uploaded = files.upload()"
      ],
      "execution_count": null,
      "outputs": []
    },
    {
      "cell_type": "code",
      "metadata": {
        "id": "KnY_ZPrIVzRc",
        "colab": {
          "base_uri": "https://localhost:8080/"
        },
        "outputId": "97af107f-93ba-47c6-deb5-5a0b3039a15a"
      },
      "source": [
        "car= pd.read_csv(\"/content/drive/MyDrive/Learning..../Python/Project Final Copy/cab_rides.csv\")\n",
        "car = reduce_mem_usage(car)\n",
        "#import io\n",
        "#car = pd.read_csv(io.BytesIO(uploaded['cab_rides.csv']))\n",
        "#This stores the Dataset in a Pandas Dataframe\n"
      ],
      "execution_count": 5,
      "outputs": [
        {
          "output_type": "stream",
          "text": [
            "Memory usage of dataframe is 52.88 MB\n",
            "Memory usage after optimization is: 42.30 MB\n",
            "Decreased by 20.0%\n"
          ],
          "name": "stdout"
        }
      ]
    },
    {
      "cell_type": "code",
      "metadata": {
        "colab": {
          "base_uri": "https://localhost:8080/",
          "height": 204
        },
        "id": "7bbVOofG3ovw",
        "outputId": "8712c0fe-7899-48f0-f571-244e3be71dc8"
      },
      "source": [
        "car.head()"
      ],
      "execution_count": 6,
      "outputs": [
        {
          "output_type": "execute_result",
          "data": {
            "text/html": [
              "<div>\n",
              "<style scoped>\n",
              "    .dataframe tbody tr th:only-of-type {\n",
              "        vertical-align: middle;\n",
              "    }\n",
              "\n",
              "    .dataframe tbody tr th {\n",
              "        vertical-align: top;\n",
              "    }\n",
              "\n",
              "    .dataframe thead th {\n",
              "        text-align: right;\n",
              "    }\n",
              "</style>\n",
              "<table border=\"1\" class=\"dataframe\">\n",
              "  <thead>\n",
              "    <tr style=\"text-align: right;\">\n",
              "      <th></th>\n",
              "      <th>distance</th>\n",
              "      <th>cab_type</th>\n",
              "      <th>time_stamp</th>\n",
              "      <th>destination</th>\n",
              "      <th>source</th>\n",
              "      <th>price</th>\n",
              "      <th>surge_multiplier</th>\n",
              "      <th>id</th>\n",
              "      <th>product_id</th>\n",
              "      <th>name</th>\n",
              "    </tr>\n",
              "  </thead>\n",
              "  <tbody>\n",
              "    <tr>\n",
              "      <th>0</th>\n",
              "      <td>0.44</td>\n",
              "      <td>Lyft</td>\n",
              "      <td>1.544950e+12</td>\n",
              "      <td>North Station</td>\n",
              "      <td>Haymarket Square</td>\n",
              "      <td>5.0</td>\n",
              "      <td>1.0</td>\n",
              "      <td>424553bb-7174-41ea-aeb4-fe06d4f4b9d7</td>\n",
              "      <td>lyft_line</td>\n",
              "      <td>Shared</td>\n",
              "    </tr>\n",
              "    <tr>\n",
              "      <th>1</th>\n",
              "      <td>0.44</td>\n",
              "      <td>Lyft</td>\n",
              "      <td>1.543280e+12</td>\n",
              "      <td>North Station</td>\n",
              "      <td>Haymarket Square</td>\n",
              "      <td>11.0</td>\n",
              "      <td>1.0</td>\n",
              "      <td>4bd23055-6827-41c6-b23b-3c491f24e74d</td>\n",
              "      <td>lyft_premier</td>\n",
              "      <td>Lux</td>\n",
              "    </tr>\n",
              "    <tr>\n",
              "      <th>2</th>\n",
              "      <td>0.44</td>\n",
              "      <td>Lyft</td>\n",
              "      <td>1.543370e+12</td>\n",
              "      <td>North Station</td>\n",
              "      <td>Haymarket Square</td>\n",
              "      <td>7.0</td>\n",
              "      <td>1.0</td>\n",
              "      <td>981a3613-77af-4620-a42a-0c0866077d1e</td>\n",
              "      <td>lyft</td>\n",
              "      <td>Lyft</td>\n",
              "    </tr>\n",
              "    <tr>\n",
              "      <th>3</th>\n",
              "      <td>0.44</td>\n",
              "      <td>Lyft</td>\n",
              "      <td>1.543550e+12</td>\n",
              "      <td>North Station</td>\n",
              "      <td>Haymarket Square</td>\n",
              "      <td>26.0</td>\n",
              "      <td>1.0</td>\n",
              "      <td>c2d88af2-d278-4bfd-a8d0-29ca77cc5512</td>\n",
              "      <td>lyft_luxsuv</td>\n",
              "      <td>Lux Black XL</td>\n",
              "    </tr>\n",
              "    <tr>\n",
              "      <th>4</th>\n",
              "      <td>0.44</td>\n",
              "      <td>Lyft</td>\n",
              "      <td>1.543460e+12</td>\n",
              "      <td>North Station</td>\n",
              "      <td>Haymarket Square</td>\n",
              "      <td>9.0</td>\n",
              "      <td>1.0</td>\n",
              "      <td>e0126e1f-8ca9-4f2e-82b3-50505a09db9a</td>\n",
              "      <td>lyft_plus</td>\n",
              "      <td>Lyft XL</td>\n",
              "    </tr>\n",
              "  </tbody>\n",
              "</table>\n",
              "</div>"
            ],
            "text/plain": [
              "   distance cab_type  ...    product_id          name\n",
              "0      0.44     Lyft  ...     lyft_line        Shared\n",
              "1      0.44     Lyft  ...  lyft_premier           Lux\n",
              "2      0.44     Lyft  ...          lyft          Lyft\n",
              "3      0.44     Lyft  ...   lyft_luxsuv  Lux Black XL\n",
              "4      0.44     Lyft  ...     lyft_plus       Lyft XL\n",
              "\n",
              "[5 rows x 10 columns]"
            ]
          },
          "metadata": {
            "tags": []
          },
          "execution_count": 6
        }
      ]
    },
    {
      "cell_type": "code",
      "metadata": {
        "colab": {
          "base_uri": "https://localhost:8080/"
        },
        "id": "gXK96eNL34HE",
        "outputId": "df3c1fce-4461-4c86-88f2-c2c9bd76c1a3"
      },
      "source": [
        "car.columns"
      ],
      "execution_count": null,
      "outputs": [
        {
          "output_type": "execute_result",
          "data": {
            "text/plain": [
              "Index(['distance', 'cab_type', 'time_stamp', 'destination', 'source', 'price',\n",
              "       'surge_multiplier', 'id', 'product_id', 'name'],\n",
              "      dtype='object')"
            ]
          },
          "metadata": {
            "tags": []
          },
          "execution_count": 28
        }
      ]
    },
    {
      "cell_type": "code",
      "metadata": {
        "colab": {
          "base_uri": "https://localhost:8080/"
        },
        "id": "8f6MQcB94MlI",
        "outputId": "fb894a0a-f048-4630-efb7-84bb6243f20b"
      },
      "source": [
        "wd.columns"
      ],
      "execution_count": null,
      "outputs": [
        {
          "output_type": "execute_result",
          "data": {
            "text/plain": [
              "Index(['temp', 'location', 'clouds', 'pressure', 'rain', 'time_stamp',\n",
              "       'humidity', 'wind'],\n",
              "      dtype='object')"
            ]
          },
          "metadata": {
            "tags": []
          },
          "execution_count": 29
        }
      ]
    },
    {
      "cell_type": "code",
      "metadata": {
        "colab": {
          "base_uri": "https://localhost:8080/"
        },
        "id": "8NgTSKGt4RF3",
        "outputId": "ad7a2a0b-f8cb-47ce-c375-5a0a52dd42d9"
      },
      "source": [
        "import datetime\n",
        "car[\"datetime\"] = pd.to_datetime(car[\"time_stamp\"])\n",
        "car[\"datetime\"]"
      ],
      "execution_count": null,
      "outputs": [
        {
          "output_type": "execute_result",
          "data": {
            "text/plain": [
              "0        1970-01-01 00:25:44.949989376\n",
              "1        1970-01-01 00:25:43.280001024\n",
              "2        1970-01-01 00:25:43.370047488\n",
              "3        1970-01-01 00:25:43.550009344\n",
              "4        1970-01-01 00:25:43.459962880\n",
              "                      ...             \n",
              "693066   1970-01-01 00:25:43.710048256\n",
              "693067   1970-01-01 00:25:43.710048256\n",
              "693068   1970-01-01 00:25:43.710048256\n",
              "693069   1970-01-01 00:25:43.710048256\n",
              "693070   1970-01-01 00:25:43.710048256\n",
              "Name: datetime, Length: 693071, dtype: datetime64[ns]"
            ]
          },
          "metadata": {
            "tags": []
          },
          "execution_count": 35
        }
      ]
    },
    {
      "cell_type": "code",
      "metadata": {
        "colab": {
          "base_uri": "https://localhost:8080/"
        },
        "id": "4zgMhbcq5uFB",
        "outputId": "5485cb6d-b3e2-4ca5-c271-802edd7f0c70"
      },
      "source": [
        "wd[\"date_time\"] = pd.to_datetime(wd[\"time_stamp\"])\n",
        "wd[\"date_time\"]"
      ],
      "execution_count": null,
      "outputs": [
        {
          "output_type": "execute_result",
          "data": {
            "text/plain": [
              "0      1970-01-01 00:00:01.545003901\n",
              "1      1970-01-01 00:00:01.545003901\n",
              "2      1970-01-01 00:00:01.545003901\n",
              "3      1970-01-01 00:00:01.545003901\n",
              "4      1970-01-01 00:00:01.545003901\n",
              "                    ...             \n",
              "6271   1970-01-01 00:00:01.543819974\n",
              "6272   1970-01-01 00:00:01.543819974\n",
              "6273   1970-01-01 00:00:01.543819974\n",
              "6274   1970-01-01 00:00:01.543819974\n",
              "6275   1970-01-01 00:00:01.543819974\n",
              "Name: date_time, Length: 6276, dtype: datetime64[ns]"
            ]
          },
          "metadata": {
            "tags": []
          },
          "execution_count": 36
        }
      ]
    },
    {
      "cell_type": "code",
      "metadata": {
        "colab": {
          "base_uri": "https://localhost:8080/"
        },
        "id": "qZqqDxJx54bP",
        "outputId": "e5c3c505-a122-4c95-ea31-8adabc204cc3"
      },
      "source": [
        "car.shape"
      ],
      "execution_count": null,
      "outputs": [
        {
          "output_type": "execute_result",
          "data": {
            "text/plain": [
              "(693071, 11)"
            ]
          },
          "metadata": {
            "tags": []
          },
          "execution_count": 37
        }
      ]
    },
    {
      "cell_type": "code",
      "metadata": {
        "colab": {
          "base_uri": "https://localhost:8080/"
        },
        "id": "6EeZCW2M58Na",
        "outputId": "2a037c8d-25bc-4bbf-e303-7f2642519706"
      },
      "source": [
        "wd.shape"
      ],
      "execution_count": null,
      "outputs": [
        {
          "output_type": "execute_result",
          "data": {
            "text/plain": [
              "(6276, 9)"
            ]
          },
          "metadata": {
            "tags": []
          },
          "execution_count": 38
        }
      ]
    },
    {
      "cell_type": "code",
      "metadata": {
        "colab": {
          "base_uri": "https://localhost:8080/",
          "height": 296
        },
        "id": "eftOiAjJ6C8K",
        "outputId": "64f28f8b-3b69-466c-90e6-8eaa139c3e93"
      },
      "source": [
        "car.describe()"
      ],
      "execution_count": null,
      "outputs": [
        {
          "output_type": "execute_result",
          "data": {
            "text/html": [
              "<div>\n",
              "<style scoped>\n",
              "    .dataframe tbody tr th:only-of-type {\n",
              "        vertical-align: middle;\n",
              "    }\n",
              "\n",
              "    .dataframe tbody tr th {\n",
              "        vertical-align: top;\n",
              "    }\n",
              "\n",
              "    .dataframe thead th {\n",
              "        text-align: right;\n",
              "    }\n",
              "</style>\n",
              "<table border=\"1\" class=\"dataframe\">\n",
              "  <thead>\n",
              "    <tr style=\"text-align: right;\">\n",
              "      <th></th>\n",
              "      <th>distance</th>\n",
              "      <th>time_stamp</th>\n",
              "      <th>price</th>\n",
              "      <th>surge_multiplier</th>\n",
              "    </tr>\n",
              "  </thead>\n",
              "  <tbody>\n",
              "    <tr>\n",
              "      <th>count</th>\n",
              "      <td>693071.000000</td>\n",
              "      <td>6.930710e+05</td>\n",
              "      <td>637976.000000</td>\n",
              "      <td>693071.000000</td>\n",
              "    </tr>\n",
              "    <tr>\n",
              "      <th>mean</th>\n",
              "      <td>2.190057</td>\n",
              "      <td>1.530152e+12</td>\n",
              "      <td>16.543797</td>\n",
              "      <td>1.013870</td>\n",
              "    </tr>\n",
              "    <tr>\n",
              "      <th>std</th>\n",
              "      <td>1.138935</td>\n",
              "      <td>1.390676e+10</td>\n",
              "      <td>9.319172</td>\n",
              "      <td>0.091467</td>\n",
              "    </tr>\n",
              "    <tr>\n",
              "      <th>min</th>\n",
              "      <td>0.020000</td>\n",
              "      <td>1.543200e+12</td>\n",
              "      <td>2.500000</td>\n",
              "      <td>1.000000</td>\n",
              "    </tr>\n",
              "    <tr>\n",
              "      <th>25%</th>\n",
              "      <td>1.280000</td>\n",
              "      <td>1.543440e+12</td>\n",
              "      <td>9.000000</td>\n",
              "      <td>1.000000</td>\n",
              "    </tr>\n",
              "    <tr>\n",
              "      <th>50%</th>\n",
              "      <td>2.160000</td>\n",
              "      <td>1.543740e+12</td>\n",
              "      <td>13.500000</td>\n",
              "      <td>1.000000</td>\n",
              "    </tr>\n",
              "    <tr>\n",
              "      <th>75%</th>\n",
              "      <td>2.920000</td>\n",
              "      <td>1.544830e+12</td>\n",
              "      <td>22.500000</td>\n",
              "      <td>1.000000</td>\n",
              "    </tr>\n",
              "    <tr>\n",
              "      <th>max</th>\n",
              "      <td>7.860000</td>\n",
              "      <td>1.545160e+12</td>\n",
              "      <td>97.500000</td>\n",
              "      <td>3.000000</td>\n",
              "    </tr>\n",
              "  </tbody>\n",
              "</table>\n",
              "</div>"
            ],
            "text/plain": [
              "            distance    time_stamp          price  surge_multiplier\n",
              "count  693071.000000  6.930710e+05  637976.000000     693071.000000\n",
              "mean        2.190057  1.530152e+12      16.543797          1.013870\n",
              "std         1.138935  1.390676e+10       9.319172          0.091467\n",
              "min         0.020000  1.543200e+12       2.500000          1.000000\n",
              "25%         1.280000  1.543440e+12       9.000000          1.000000\n",
              "50%         2.160000  1.543740e+12      13.500000          1.000000\n",
              "75%         2.920000  1.544830e+12      22.500000          1.000000\n",
              "max         7.860000  1.545160e+12      97.500000          3.000000"
            ]
          },
          "metadata": {
            "tags": []
          },
          "execution_count": 40
        }
      ]
    },
    {
      "cell_type": "code",
      "metadata": {
        "colab": {
          "base_uri": "https://localhost:8080/",
          "height": 296
        },
        "id": "nL8paVGD6Tts",
        "outputId": "32cdf4a6-8b38-4d6d-e2e0-f589df947e5c"
      },
      "source": [
        "wd.describe()"
      ],
      "execution_count": null,
      "outputs": [
        {
          "output_type": "execute_result",
          "data": {
            "text/html": [
              "<div>\n",
              "<style scoped>\n",
              "    .dataframe tbody tr th:only-of-type {\n",
              "        vertical-align: middle;\n",
              "    }\n",
              "\n",
              "    .dataframe tbody tr th {\n",
              "        vertical-align: top;\n",
              "    }\n",
              "\n",
              "    .dataframe thead th {\n",
              "        text-align: right;\n",
              "    }\n",
              "</style>\n",
              "<table border=\"1\" class=\"dataframe\">\n",
              "  <thead>\n",
              "    <tr style=\"text-align: right;\">\n",
              "      <th></th>\n",
              "      <th>temp</th>\n",
              "      <th>clouds</th>\n",
              "      <th>pressure</th>\n",
              "      <th>rain</th>\n",
              "      <th>time_stamp</th>\n",
              "      <th>humidity</th>\n",
              "      <th>wind</th>\n",
              "    </tr>\n",
              "  </thead>\n",
              "  <tbody>\n",
              "    <tr>\n",
              "      <th>count</th>\n",
              "      <td>6276.000000</td>\n",
              "      <td>6276.000000</td>\n",
              "      <td>6276.000000</td>\n",
              "      <td>894.000000</td>\n",
              "      <td>6.276000e+03</td>\n",
              "      <td>6276.000000</td>\n",
              "      <td>6276.000000</td>\n",
              "    </tr>\n",
              "    <tr>\n",
              "      <th>mean</th>\n",
              "      <td>39.090378</td>\n",
              "      <td>0.677775</td>\n",
              "      <td>1008.443176</td>\n",
              "      <td>0.057652</td>\n",
              "      <td>1.543857e+09</td>\n",
              "      <td>0.763976</td>\n",
              "      <td>6.802810</td>\n",
              "    </tr>\n",
              "    <tr>\n",
              "      <th>std</th>\n",
              "      <td>6.022061</td>\n",
              "      <td>0.314283</td>\n",
              "      <td>12.870790</td>\n",
              "      <td>0.100758</td>\n",
              "      <td>6.659340e+05</td>\n",
              "      <td>0.127340</td>\n",
              "      <td>3.633476</td>\n",
              "    </tr>\n",
              "    <tr>\n",
              "      <th>min</th>\n",
              "      <td>19.620001</td>\n",
              "      <td>0.000000</td>\n",
              "      <td>988.250000</td>\n",
              "      <td>0.000200</td>\n",
              "      <td>1.543204e+09</td>\n",
              "      <td>0.450000</td>\n",
              "      <td>0.290000</td>\n",
              "    </tr>\n",
              "    <tr>\n",
              "      <th>25%</th>\n",
              "      <td>36.077501</td>\n",
              "      <td>0.440000</td>\n",
              "      <td>997.747498</td>\n",
              "      <td>0.004900</td>\n",
              "      <td>1.543387e+09</td>\n",
              "      <td>0.670000</td>\n",
              "      <td>3.517500</td>\n",
              "    </tr>\n",
              "    <tr>\n",
              "      <th>50%</th>\n",
              "      <td>40.130001</td>\n",
              "      <td>0.780000</td>\n",
              "      <td>1007.659973</td>\n",
              "      <td>0.014850</td>\n",
              "      <td>1.543514e+09</td>\n",
              "      <td>0.760000</td>\n",
              "      <td>6.570000</td>\n",
              "    </tr>\n",
              "    <tr>\n",
              "      <th>75%</th>\n",
              "      <td>42.832501</td>\n",
              "      <td>0.970000</td>\n",
              "      <td>1018.479980</td>\n",
              "      <td>0.060925</td>\n",
              "      <td>1.544691e+09</td>\n",
              "      <td>0.890000</td>\n",
              "      <td>9.920000</td>\n",
              "    </tr>\n",
              "    <tr>\n",
              "      <th>max</th>\n",
              "      <td>55.410000</td>\n",
              "      <td>1.000000</td>\n",
              "      <td>1035.119995</td>\n",
              "      <td>0.780700</td>\n",
              "      <td>1.545159e+09</td>\n",
              "      <td>0.990000</td>\n",
              "      <td>18.180000</td>\n",
              "    </tr>\n",
              "  </tbody>\n",
              "</table>\n",
              "</div>"
            ],
            "text/plain": [
              "              temp       clouds  ...     humidity         wind\n",
              "count  6276.000000  6276.000000  ...  6276.000000  6276.000000\n",
              "mean     39.090378     0.677775  ...     0.763976     6.802810\n",
              "std       6.022061     0.314283  ...     0.127340     3.633476\n",
              "min      19.620001     0.000000  ...     0.450000     0.290000\n",
              "25%      36.077501     0.440000  ...     0.670000     3.517500\n",
              "50%      40.130001     0.780000  ...     0.760000     6.570000\n",
              "75%      42.832501     0.970000  ...     0.890000     9.920000\n",
              "max      55.410000     1.000000  ...     0.990000    18.180000\n",
              "\n",
              "[8 rows x 7 columns]"
            ]
          },
          "metadata": {
            "tags": []
          },
          "execution_count": 41
        }
      ]
    },
    {
      "cell_type": "code",
      "metadata": {
        "id": "SJoKRvfO6apK"
      },
      "source": [
        "a = pd.concat([car,wd]) #concatnating data of both the tables"
      ],
      "execution_count": null,
      "outputs": []
    },
    {
      "cell_type": "code",
      "metadata": {
        "colab": {
          "base_uri": "https://localhost:8080/",
          "height": 868
        },
        "id": "l8gDcNka63ig",
        "outputId": "e254e280-b299-43d3-e8e8-e63553b79086"
      },
      "source": [
        "a.head(10) #displays the first 10 rows of the new dataframe"
      ],
      "execution_count": null,
      "outputs": [
        {
          "output_type": "execute_result",
          "data": {
            "text/html": [
              "<div>\n",
              "<style scoped>\n",
              "    .dataframe tbody tr th:only-of-type {\n",
              "        vertical-align: middle;\n",
              "    }\n",
              "\n",
              "    .dataframe tbody tr th {\n",
              "        vertical-align: top;\n",
              "    }\n",
              "\n",
              "    .dataframe thead th {\n",
              "        text-align: right;\n",
              "    }\n",
              "</style>\n",
              "<table border=\"1\" class=\"dataframe\">\n",
              "  <thead>\n",
              "    <tr style=\"text-align: right;\">\n",
              "      <th></th>\n",
              "      <th>distance</th>\n",
              "      <th>cab_type</th>\n",
              "      <th>time_stamp</th>\n",
              "      <th>destination</th>\n",
              "      <th>source</th>\n",
              "      <th>price</th>\n",
              "      <th>surge_multiplier</th>\n",
              "      <th>id</th>\n",
              "      <th>product_id</th>\n",
              "      <th>name</th>\n",
              "      <th>datetime</th>\n",
              "      <th>temp</th>\n",
              "      <th>location</th>\n",
              "      <th>clouds</th>\n",
              "      <th>pressure</th>\n",
              "      <th>rain</th>\n",
              "      <th>humidity</th>\n",
              "      <th>wind</th>\n",
              "      <th>date_time</th>\n",
              "    </tr>\n",
              "  </thead>\n",
              "  <tbody>\n",
              "    <tr>\n",
              "      <th>0</th>\n",
              "      <td>0.44</td>\n",
              "      <td>Lyft</td>\n",
              "      <td>1.544950e+12</td>\n",
              "      <td>North Station</td>\n",
              "      <td>Haymarket Square</td>\n",
              "      <td>5.0</td>\n",
              "      <td>1.0</td>\n",
              "      <td>424553bb-7174-41ea-aeb4-fe06d4f4b9d7</td>\n",
              "      <td>lyft_line</td>\n",
              "      <td>Shared</td>\n",
              "      <td>1970-01-01 00:25:44.949989376</td>\n",
              "      <td>NaN</td>\n",
              "      <td>NaN</td>\n",
              "      <td>NaN</td>\n",
              "      <td>NaN</td>\n",
              "      <td>NaN</td>\n",
              "      <td>NaN</td>\n",
              "      <td>NaN</td>\n",
              "      <td>NaT</td>\n",
              "    </tr>\n",
              "    <tr>\n",
              "      <th>1</th>\n",
              "      <td>0.44</td>\n",
              "      <td>Lyft</td>\n",
              "      <td>1.543280e+12</td>\n",
              "      <td>North Station</td>\n",
              "      <td>Haymarket Square</td>\n",
              "      <td>11.0</td>\n",
              "      <td>1.0</td>\n",
              "      <td>4bd23055-6827-41c6-b23b-3c491f24e74d</td>\n",
              "      <td>lyft_premier</td>\n",
              "      <td>Lux</td>\n",
              "      <td>1970-01-01 00:25:43.280001024</td>\n",
              "      <td>NaN</td>\n",
              "      <td>NaN</td>\n",
              "      <td>NaN</td>\n",
              "      <td>NaN</td>\n",
              "      <td>NaN</td>\n",
              "      <td>NaN</td>\n",
              "      <td>NaN</td>\n",
              "      <td>NaT</td>\n",
              "    </tr>\n",
              "    <tr>\n",
              "      <th>2</th>\n",
              "      <td>0.44</td>\n",
              "      <td>Lyft</td>\n",
              "      <td>1.543370e+12</td>\n",
              "      <td>North Station</td>\n",
              "      <td>Haymarket Square</td>\n",
              "      <td>7.0</td>\n",
              "      <td>1.0</td>\n",
              "      <td>981a3613-77af-4620-a42a-0c0866077d1e</td>\n",
              "      <td>lyft</td>\n",
              "      <td>Lyft</td>\n",
              "      <td>1970-01-01 00:25:43.370047488</td>\n",
              "      <td>NaN</td>\n",
              "      <td>NaN</td>\n",
              "      <td>NaN</td>\n",
              "      <td>NaN</td>\n",
              "      <td>NaN</td>\n",
              "      <td>NaN</td>\n",
              "      <td>NaN</td>\n",
              "      <td>NaT</td>\n",
              "    </tr>\n",
              "    <tr>\n",
              "      <th>3</th>\n",
              "      <td>0.44</td>\n",
              "      <td>Lyft</td>\n",
              "      <td>1.543550e+12</td>\n",
              "      <td>North Station</td>\n",
              "      <td>Haymarket Square</td>\n",
              "      <td>26.0</td>\n",
              "      <td>1.0</td>\n",
              "      <td>c2d88af2-d278-4bfd-a8d0-29ca77cc5512</td>\n",
              "      <td>lyft_luxsuv</td>\n",
              "      <td>Lux Black XL</td>\n",
              "      <td>1970-01-01 00:25:43.550009344</td>\n",
              "      <td>NaN</td>\n",
              "      <td>NaN</td>\n",
              "      <td>NaN</td>\n",
              "      <td>NaN</td>\n",
              "      <td>NaN</td>\n",
              "      <td>NaN</td>\n",
              "      <td>NaN</td>\n",
              "      <td>NaT</td>\n",
              "    </tr>\n",
              "    <tr>\n",
              "      <th>4</th>\n",
              "      <td>0.44</td>\n",
              "      <td>Lyft</td>\n",
              "      <td>1.543460e+12</td>\n",
              "      <td>North Station</td>\n",
              "      <td>Haymarket Square</td>\n",
              "      <td>9.0</td>\n",
              "      <td>1.0</td>\n",
              "      <td>e0126e1f-8ca9-4f2e-82b3-50505a09db9a</td>\n",
              "      <td>lyft_plus</td>\n",
              "      <td>Lyft XL</td>\n",
              "      <td>1970-01-01 00:25:43.459962880</td>\n",
              "      <td>NaN</td>\n",
              "      <td>NaN</td>\n",
              "      <td>NaN</td>\n",
              "      <td>NaN</td>\n",
              "      <td>NaN</td>\n",
              "      <td>NaN</td>\n",
              "      <td>NaN</td>\n",
              "      <td>NaT</td>\n",
              "    </tr>\n",
              "    <tr>\n",
              "      <th>5</th>\n",
              "      <td>0.44</td>\n",
              "      <td>Lyft</td>\n",
              "      <td>1.545070e+12</td>\n",
              "      <td>North Station</td>\n",
              "      <td>Haymarket Square</td>\n",
              "      <td>16.5</td>\n",
              "      <td>1.0</td>\n",
              "      <td>f6f6d7e4-3e18-4922-a5f5-181cdd3fa6f2</td>\n",
              "      <td>lyft_lux</td>\n",
              "      <td>Lux Black</td>\n",
              "      <td>1970-01-01 00:25:45.070051328</td>\n",
              "      <td>NaN</td>\n",
              "      <td>NaN</td>\n",
              "      <td>NaN</td>\n",
              "      <td>NaN</td>\n",
              "      <td>NaN</td>\n",
              "      <td>NaN</td>\n",
              "      <td>NaN</td>\n",
              "      <td>NaT</td>\n",
              "    </tr>\n",
              "    <tr>\n",
              "      <th>6</th>\n",
              "      <td>1.08</td>\n",
              "      <td>Lyft</td>\n",
              "      <td>1.543210e+12</td>\n",
              "      <td>Northeastern University</td>\n",
              "      <td>Back Bay</td>\n",
              "      <td>10.5</td>\n",
              "      <td>1.0</td>\n",
              "      <td>462816a3-820d-408b-8549-0b39e82f65ac</td>\n",
              "      <td>lyft_plus</td>\n",
              "      <td>Lyft XL</td>\n",
              "      <td>1970-01-01 00:25:43.210008576</td>\n",
              "      <td>NaN</td>\n",
              "      <td>NaN</td>\n",
              "      <td>NaN</td>\n",
              "      <td>NaN</td>\n",
              "      <td>NaN</td>\n",
              "      <td>NaN</td>\n",
              "      <td>NaN</td>\n",
              "      <td>NaT</td>\n",
              "    </tr>\n",
              "    <tr>\n",
              "      <th>7</th>\n",
              "      <td>1.08</td>\n",
              "      <td>Lyft</td>\n",
              "      <td>1.543780e+12</td>\n",
              "      <td>Northeastern University</td>\n",
              "      <td>Back Bay</td>\n",
              "      <td>16.5</td>\n",
              "      <td>1.0</td>\n",
              "      <td>474d6376-bc59-4ec9-bf57-4e6d6faeb165</td>\n",
              "      <td>lyft_lux</td>\n",
              "      <td>Lux Black</td>\n",
              "      <td>1970-01-01 00:25:43.780040704</td>\n",
              "      <td>NaN</td>\n",
              "      <td>NaN</td>\n",
              "      <td>NaN</td>\n",
              "      <td>NaN</td>\n",
              "      <td>NaN</td>\n",
              "      <td>NaN</td>\n",
              "      <td>NaN</td>\n",
              "      <td>NaT</td>\n",
              "    </tr>\n",
              "    <tr>\n",
              "      <th>8</th>\n",
              "      <td>1.08</td>\n",
              "      <td>Lyft</td>\n",
              "      <td>1.543820e+12</td>\n",
              "      <td>Northeastern University</td>\n",
              "      <td>Back Bay</td>\n",
              "      <td>3.0</td>\n",
              "      <td>1.0</td>\n",
              "      <td>4f9fee41-fde3-4767-bbf1-a00e108701fb</td>\n",
              "      <td>lyft_line</td>\n",
              "      <td>Shared</td>\n",
              "      <td>1970-01-01 00:25:43.820017664</td>\n",
              "      <td>NaN</td>\n",
              "      <td>NaN</td>\n",
              "      <td>NaN</td>\n",
              "      <td>NaN</td>\n",
              "      <td>NaN</td>\n",
              "      <td>NaN</td>\n",
              "      <td>NaN</td>\n",
              "      <td>NaT</td>\n",
              "    </tr>\n",
              "    <tr>\n",
              "      <th>9</th>\n",
              "      <td>1.08</td>\n",
              "      <td>Lyft</td>\n",
              "      <td>1.543320e+12</td>\n",
              "      <td>Northeastern University</td>\n",
              "      <td>Back Bay</td>\n",
              "      <td>27.5</td>\n",
              "      <td>1.0</td>\n",
              "      <td>8612d909-98b8-4454-a093-30bd48de0cb3</td>\n",
              "      <td>lyft_luxsuv</td>\n",
              "      <td>Lux Black XL</td>\n",
              "      <td>1970-01-01 00:25:43.319977984</td>\n",
              "      <td>NaN</td>\n",
              "      <td>NaN</td>\n",
              "      <td>NaN</td>\n",
              "      <td>NaN</td>\n",
              "      <td>NaN</td>\n",
              "      <td>NaN</td>\n",
              "      <td>NaN</td>\n",
              "      <td>NaT</td>\n",
              "    </tr>\n",
              "  </tbody>\n",
              "</table>\n",
              "</div>"
            ],
            "text/plain": [
              "   distance cab_type    time_stamp  ... humidity wind  date_time\n",
              "0      0.44     Lyft  1.544950e+12  ...      NaN  NaN        NaT\n",
              "1      0.44     Lyft  1.543280e+12  ...      NaN  NaN        NaT\n",
              "2      0.44     Lyft  1.543370e+12  ...      NaN  NaN        NaT\n",
              "3      0.44     Lyft  1.543550e+12  ...      NaN  NaN        NaT\n",
              "4      0.44     Lyft  1.543460e+12  ...      NaN  NaN        NaT\n",
              "5      0.44     Lyft  1.545070e+12  ...      NaN  NaN        NaT\n",
              "6      1.08     Lyft  1.543210e+12  ...      NaN  NaN        NaT\n",
              "7      1.08     Lyft  1.543780e+12  ...      NaN  NaN        NaT\n",
              "8      1.08     Lyft  1.543820e+12  ...      NaN  NaN        NaT\n",
              "9      1.08     Lyft  1.543320e+12  ...      NaN  NaN        NaT\n",
              "\n",
              "[10 rows x 19 columns]"
            ]
          },
          "metadata": {
            "tags": []
          },
          "execution_count": 44
        }
      ]
    },
    {
      "cell_type": "code",
      "metadata": {
        "id": "4Kc-AM9q7exm"
      },
      "source": [
        "a[\"day\"] = a.date_time.dt.day\n",
        "a[\"hour\"] = a.date_time.dt.hour"
      ],
      "execution_count": null,
      "outputs": []
    },
    {
      "cell_type": "code",
      "metadata": {
        "colab": {
          "base_uri": "https://localhost:8080/",
          "height": 308
        },
        "id": "5DvVeOgz8nG8",
        "outputId": "af5e4358-7836-462e-fdb8-6c6257560253"
      },
      "source": [
        "a.tail() #gives us the last 5 rows"
      ],
      "execution_count": null,
      "outputs": [
        {
          "output_type": "execute_result",
          "data": {
            "text/html": [
              "<div>\n",
              "<style scoped>\n",
              "    .dataframe tbody tr th:only-of-type {\n",
              "        vertical-align: middle;\n",
              "    }\n",
              "\n",
              "    .dataframe tbody tr th {\n",
              "        vertical-align: top;\n",
              "    }\n",
              "\n",
              "    .dataframe thead th {\n",
              "        text-align: right;\n",
              "    }\n",
              "</style>\n",
              "<table border=\"1\" class=\"dataframe\">\n",
              "  <thead>\n",
              "    <tr style=\"text-align: right;\">\n",
              "      <th></th>\n",
              "      <th>distance</th>\n",
              "      <th>cab_type</th>\n",
              "      <th>time_stamp</th>\n",
              "      <th>destination</th>\n",
              "      <th>source</th>\n",
              "      <th>price</th>\n",
              "      <th>surge_multiplier</th>\n",
              "      <th>id</th>\n",
              "      <th>product_id</th>\n",
              "      <th>name</th>\n",
              "      <th>datetime</th>\n",
              "      <th>temp</th>\n",
              "      <th>location</th>\n",
              "      <th>clouds</th>\n",
              "      <th>pressure</th>\n",
              "      <th>rain</th>\n",
              "      <th>humidity</th>\n",
              "      <th>wind</th>\n",
              "      <th>date_time</th>\n",
              "      <th>day</th>\n",
              "      <th>hour</th>\n",
              "    </tr>\n",
              "  </thead>\n",
              "  <tbody>\n",
              "    <tr>\n",
              "      <th>6271</th>\n",
              "      <td>NaN</td>\n",
              "      <td>NaN</td>\n",
              "      <td>1.543820e+09</td>\n",
              "      <td>NaN</td>\n",
              "      <td>NaN</td>\n",
              "      <td>NaN</td>\n",
              "      <td>NaN</td>\n",
              "      <td>NaN</td>\n",
              "      <td>NaN</td>\n",
              "      <td>NaN</td>\n",
              "      <td>NaT</td>\n",
              "      <td>44.720001</td>\n",
              "      <td>North Station</td>\n",
              "      <td>0.89</td>\n",
              "      <td>1000.690002</td>\n",
              "      <td>NaN</td>\n",
              "      <td>0.96</td>\n",
              "      <td>1.52</td>\n",
              "      <td>1970-01-01 00:00:01.543819974</td>\n",
              "      <td>1.0</td>\n",
              "      <td>0.0</td>\n",
              "    </tr>\n",
              "    <tr>\n",
              "      <th>6272</th>\n",
              "      <td>NaN</td>\n",
              "      <td>NaN</td>\n",
              "      <td>1.543820e+09</td>\n",
              "      <td>NaN</td>\n",
              "      <td>NaN</td>\n",
              "      <td>NaN</td>\n",
              "      <td>NaN</td>\n",
              "      <td>NaN</td>\n",
              "      <td>NaN</td>\n",
              "      <td>NaN</td>\n",
              "      <td>NaT</td>\n",
              "      <td>44.849998</td>\n",
              "      <td>Northeastern University</td>\n",
              "      <td>0.88</td>\n",
              "      <td>1000.710022</td>\n",
              "      <td>NaN</td>\n",
              "      <td>0.96</td>\n",
              "      <td>1.54</td>\n",
              "      <td>1970-01-01 00:00:01.543819974</td>\n",
              "      <td>1.0</td>\n",
              "      <td>0.0</td>\n",
              "    </tr>\n",
              "    <tr>\n",
              "      <th>6273</th>\n",
              "      <td>NaN</td>\n",
              "      <td>NaN</td>\n",
              "      <td>1.543820e+09</td>\n",
              "      <td>NaN</td>\n",
              "      <td>NaN</td>\n",
              "      <td>NaN</td>\n",
              "      <td>NaN</td>\n",
              "      <td>NaN</td>\n",
              "      <td>NaN</td>\n",
              "      <td>NaN</td>\n",
              "      <td>NaT</td>\n",
              "      <td>44.820000</td>\n",
              "      <td>South Station</td>\n",
              "      <td>0.89</td>\n",
              "      <td>1000.700012</td>\n",
              "      <td>NaN</td>\n",
              "      <td>0.96</td>\n",
              "      <td>1.54</td>\n",
              "      <td>1970-01-01 00:00:01.543819974</td>\n",
              "      <td>1.0</td>\n",
              "      <td>0.0</td>\n",
              "    </tr>\n",
              "    <tr>\n",
              "      <th>6274</th>\n",
              "      <td>NaN</td>\n",
              "      <td>NaN</td>\n",
              "      <td>1.543820e+09</td>\n",
              "      <td>NaN</td>\n",
              "      <td>NaN</td>\n",
              "      <td>NaN</td>\n",
              "      <td>NaN</td>\n",
              "      <td>NaN</td>\n",
              "      <td>NaN</td>\n",
              "      <td>NaN</td>\n",
              "      <td>NaT</td>\n",
              "      <td>44.779999</td>\n",
              "      <td>Theatre District</td>\n",
              "      <td>0.89</td>\n",
              "      <td>1000.700012</td>\n",
              "      <td>NaN</td>\n",
              "      <td>0.96</td>\n",
              "      <td>1.54</td>\n",
              "      <td>1970-01-01 00:00:01.543819974</td>\n",
              "      <td>1.0</td>\n",
              "      <td>0.0</td>\n",
              "    </tr>\n",
              "    <tr>\n",
              "      <th>6275</th>\n",
              "      <td>NaN</td>\n",
              "      <td>NaN</td>\n",
              "      <td>1.543820e+09</td>\n",
              "      <td>NaN</td>\n",
              "      <td>NaN</td>\n",
              "      <td>NaN</td>\n",
              "      <td>NaN</td>\n",
              "      <td>NaN</td>\n",
              "      <td>NaN</td>\n",
              "      <td>NaN</td>\n",
              "      <td>NaT</td>\n",
              "      <td>44.689999</td>\n",
              "      <td>West End</td>\n",
              "      <td>0.89</td>\n",
              "      <td>1000.700012</td>\n",
              "      <td>NaN</td>\n",
              "      <td>0.96</td>\n",
              "      <td>1.52</td>\n",
              "      <td>1970-01-01 00:00:01.543819974</td>\n",
              "      <td>1.0</td>\n",
              "      <td>0.0</td>\n",
              "    </tr>\n",
              "  </tbody>\n",
              "</table>\n",
              "</div>"
            ],
            "text/plain": [
              "      distance cab_type    time_stamp  ...                     date_time  day  hour\n",
              "6271       NaN      NaN  1.543820e+09  ... 1970-01-01 00:00:01.543819974  1.0   0.0\n",
              "6272       NaN      NaN  1.543820e+09  ... 1970-01-01 00:00:01.543819974  1.0   0.0\n",
              "6273       NaN      NaN  1.543820e+09  ... 1970-01-01 00:00:01.543819974  1.0   0.0\n",
              "6274       NaN      NaN  1.543820e+09  ... 1970-01-01 00:00:01.543819974  1.0   0.0\n",
              "6275       NaN      NaN  1.543820e+09  ... 1970-01-01 00:00:01.543819974  1.0   0.0\n",
              "\n",
              "[5 rows x 21 columns]"
            ]
          },
          "metadata": {
            "tags": []
          },
          "execution_count": 54
        }
      ]
    },
    {
      "cell_type": "code",
      "metadata": {
        "id": "zVgioONr9sd7"
      },
      "source": [
        "a.fillna(0, inplace= True)"
      ],
      "execution_count": null,
      "outputs": []
    },
    {
      "cell_type": "code",
      "metadata": {
        "colab": {
          "base_uri": "https://localhost:8080/",
          "height": 475
        },
        "id": "6QTRahvm-G4J",
        "outputId": "47afd663-ccf8-4ce6-8aca-bf51a07224f0"
      },
      "source": [
        "a.head()"
      ],
      "execution_count": null,
      "outputs": [
        {
          "output_type": "execute_result",
          "data": {
            "text/html": [
              "<div>\n",
              "<style scoped>\n",
              "    .dataframe tbody tr th:only-of-type {\n",
              "        vertical-align: middle;\n",
              "    }\n",
              "\n",
              "    .dataframe tbody tr th {\n",
              "        vertical-align: top;\n",
              "    }\n",
              "\n",
              "    .dataframe thead th {\n",
              "        text-align: right;\n",
              "    }\n",
              "</style>\n",
              "<table border=\"1\" class=\"dataframe\">\n",
              "  <thead>\n",
              "    <tr style=\"text-align: right;\">\n",
              "      <th></th>\n",
              "      <th>distance</th>\n",
              "      <th>cab_type</th>\n",
              "      <th>time_stamp</th>\n",
              "      <th>destination</th>\n",
              "      <th>source</th>\n",
              "      <th>price</th>\n",
              "      <th>surge_multiplier</th>\n",
              "      <th>id</th>\n",
              "      <th>product_id</th>\n",
              "      <th>name</th>\n",
              "      <th>datetime</th>\n",
              "      <th>temp</th>\n",
              "      <th>location</th>\n",
              "      <th>clouds</th>\n",
              "      <th>pressure</th>\n",
              "      <th>rain</th>\n",
              "      <th>humidity</th>\n",
              "      <th>wind</th>\n",
              "      <th>date_time</th>\n",
              "      <th>day</th>\n",
              "      <th>hour</th>\n",
              "    </tr>\n",
              "  </thead>\n",
              "  <tbody>\n",
              "    <tr>\n",
              "      <th>0</th>\n",
              "      <td>0.44</td>\n",
              "      <td>Lyft</td>\n",
              "      <td>1.544950e+12</td>\n",
              "      <td>North Station</td>\n",
              "      <td>Haymarket Square</td>\n",
              "      <td>5.0</td>\n",
              "      <td>1.0</td>\n",
              "      <td>424553bb-7174-41ea-aeb4-fe06d4f4b9d7</td>\n",
              "      <td>lyft_line</td>\n",
              "      <td>Shared</td>\n",
              "      <td>1970-01-01 00:25:44.949989376</td>\n",
              "      <td>0.0</td>\n",
              "      <td>0</td>\n",
              "      <td>0.0</td>\n",
              "      <td>0.0</td>\n",
              "      <td>0.0</td>\n",
              "      <td>0.0</td>\n",
              "      <td>0.0</td>\n",
              "      <td>0</td>\n",
              "      <td>0.0</td>\n",
              "      <td>0.0</td>\n",
              "    </tr>\n",
              "    <tr>\n",
              "      <th>1</th>\n",
              "      <td>0.44</td>\n",
              "      <td>Lyft</td>\n",
              "      <td>1.543280e+12</td>\n",
              "      <td>North Station</td>\n",
              "      <td>Haymarket Square</td>\n",
              "      <td>11.0</td>\n",
              "      <td>1.0</td>\n",
              "      <td>4bd23055-6827-41c6-b23b-3c491f24e74d</td>\n",
              "      <td>lyft_premier</td>\n",
              "      <td>Lux</td>\n",
              "      <td>1970-01-01 00:25:43.280001024</td>\n",
              "      <td>0.0</td>\n",
              "      <td>0</td>\n",
              "      <td>0.0</td>\n",
              "      <td>0.0</td>\n",
              "      <td>0.0</td>\n",
              "      <td>0.0</td>\n",
              "      <td>0.0</td>\n",
              "      <td>0</td>\n",
              "      <td>0.0</td>\n",
              "      <td>0.0</td>\n",
              "    </tr>\n",
              "    <tr>\n",
              "      <th>2</th>\n",
              "      <td>0.44</td>\n",
              "      <td>Lyft</td>\n",
              "      <td>1.543370e+12</td>\n",
              "      <td>North Station</td>\n",
              "      <td>Haymarket Square</td>\n",
              "      <td>7.0</td>\n",
              "      <td>1.0</td>\n",
              "      <td>981a3613-77af-4620-a42a-0c0866077d1e</td>\n",
              "      <td>lyft</td>\n",
              "      <td>Lyft</td>\n",
              "      <td>1970-01-01 00:25:43.370047488</td>\n",
              "      <td>0.0</td>\n",
              "      <td>0</td>\n",
              "      <td>0.0</td>\n",
              "      <td>0.0</td>\n",
              "      <td>0.0</td>\n",
              "      <td>0.0</td>\n",
              "      <td>0.0</td>\n",
              "      <td>0</td>\n",
              "      <td>0.0</td>\n",
              "      <td>0.0</td>\n",
              "    </tr>\n",
              "    <tr>\n",
              "      <th>3</th>\n",
              "      <td>0.44</td>\n",
              "      <td>Lyft</td>\n",
              "      <td>1.543550e+12</td>\n",
              "      <td>North Station</td>\n",
              "      <td>Haymarket Square</td>\n",
              "      <td>26.0</td>\n",
              "      <td>1.0</td>\n",
              "      <td>c2d88af2-d278-4bfd-a8d0-29ca77cc5512</td>\n",
              "      <td>lyft_luxsuv</td>\n",
              "      <td>Lux Black XL</td>\n",
              "      <td>1970-01-01 00:25:43.550009344</td>\n",
              "      <td>0.0</td>\n",
              "      <td>0</td>\n",
              "      <td>0.0</td>\n",
              "      <td>0.0</td>\n",
              "      <td>0.0</td>\n",
              "      <td>0.0</td>\n",
              "      <td>0.0</td>\n",
              "      <td>0</td>\n",
              "      <td>0.0</td>\n",
              "      <td>0.0</td>\n",
              "    </tr>\n",
              "    <tr>\n",
              "      <th>4</th>\n",
              "      <td>0.44</td>\n",
              "      <td>Lyft</td>\n",
              "      <td>1.543460e+12</td>\n",
              "      <td>North Station</td>\n",
              "      <td>Haymarket Square</td>\n",
              "      <td>9.0</td>\n",
              "      <td>1.0</td>\n",
              "      <td>e0126e1f-8ca9-4f2e-82b3-50505a09db9a</td>\n",
              "      <td>lyft_plus</td>\n",
              "      <td>Lyft XL</td>\n",
              "      <td>1970-01-01 00:25:43.459962880</td>\n",
              "      <td>0.0</td>\n",
              "      <td>0</td>\n",
              "      <td>0.0</td>\n",
              "      <td>0.0</td>\n",
              "      <td>0.0</td>\n",
              "      <td>0.0</td>\n",
              "      <td>0.0</td>\n",
              "      <td>0</td>\n",
              "      <td>0.0</td>\n",
              "      <td>0.0</td>\n",
              "    </tr>\n",
              "  </tbody>\n",
              "</table>\n",
              "</div>"
            ],
            "text/plain": [
              "   distance cab_type    time_stamp    destination  ... wind  date_time  day hour\n",
              "0      0.44     Lyft  1.544950e+12  North Station  ...  0.0          0  0.0  0.0\n",
              "1      0.44     Lyft  1.543280e+12  North Station  ...  0.0          0  0.0  0.0\n",
              "2      0.44     Lyft  1.543370e+12  North Station  ...  0.0          0  0.0  0.0\n",
              "3      0.44     Lyft  1.543550e+12  North Station  ...  0.0          0  0.0  0.0\n",
              "4      0.44     Lyft  1.543460e+12  North Station  ...  0.0          0  0.0  0.0\n",
              "\n",
              "[5 rows x 21 columns]"
            ]
          },
          "metadata": {
            "tags": []
          },
          "execution_count": 57
        }
      ]
    },
    {
      "cell_type": "code",
      "metadata": {
        "colab": {
          "base_uri": "https://localhost:8080/"
        },
        "id": "23GQsKae-PWg",
        "outputId": "d1df7c61-e24a-4b25-b699-0988041934bc"
      },
      "source": [
        "a.columns"
      ],
      "execution_count": null,
      "outputs": [
        {
          "output_type": "execute_result",
          "data": {
            "text/plain": [
              "Index(['distance', 'cab_type', 'time_stamp', 'destination', 'source', 'price',\n",
              "       'surge_multiplier', 'id', 'product_id', 'name', 'datetime', 'temp',\n",
              "       'location', 'clouds', 'pressure', 'rain', 'humidity', 'wind',\n",
              "       'date_time', 'day', 'hour'],\n",
              "      dtype='object')"
            ]
          },
          "metadata": {
            "tags": []
          },
          "execution_count": 58
        }
      ]
    },
    {
      "cell_type": "code",
      "metadata": {
        "colab": {
          "base_uri": "https://localhost:8080/",
          "height": 192
        },
        "id": "l2DZ92Y---i7",
        "outputId": "7654d89c-8f10-4ecb-9808-efec77e0e6ee"
      },
      "source": [
        "a.groupby(\"cab_type\").count()"
      ],
      "execution_count": null,
      "outputs": [
        {
          "output_type": "execute_result",
          "data": {
            "text/html": [
              "<div>\n",
              "<style scoped>\n",
              "    .dataframe tbody tr th:only-of-type {\n",
              "        vertical-align: middle;\n",
              "    }\n",
              "\n",
              "    .dataframe tbody tr th {\n",
              "        vertical-align: top;\n",
              "    }\n",
              "\n",
              "    .dataframe thead th {\n",
              "        text-align: right;\n",
              "    }\n",
              "</style>\n",
              "<table border=\"1\" class=\"dataframe\">\n",
              "  <thead>\n",
              "    <tr style=\"text-align: right;\">\n",
              "      <th></th>\n",
              "      <th>distance</th>\n",
              "      <th>time_stamp</th>\n",
              "      <th>destination</th>\n",
              "      <th>source</th>\n",
              "      <th>price</th>\n",
              "      <th>surge_multiplier</th>\n",
              "      <th>id</th>\n",
              "      <th>product_id</th>\n",
              "      <th>name</th>\n",
              "      <th>datetime</th>\n",
              "      <th>temp</th>\n",
              "      <th>location</th>\n",
              "      <th>clouds</th>\n",
              "      <th>pressure</th>\n",
              "      <th>rain</th>\n",
              "      <th>humidity</th>\n",
              "      <th>wind</th>\n",
              "      <th>date_time</th>\n",
              "      <th>day</th>\n",
              "      <th>hour</th>\n",
              "    </tr>\n",
              "    <tr>\n",
              "      <th>cab_type</th>\n",
              "      <th></th>\n",
              "      <th></th>\n",
              "      <th></th>\n",
              "      <th></th>\n",
              "      <th></th>\n",
              "      <th></th>\n",
              "      <th></th>\n",
              "      <th></th>\n",
              "      <th></th>\n",
              "      <th></th>\n",
              "      <th></th>\n",
              "      <th></th>\n",
              "      <th></th>\n",
              "      <th></th>\n",
              "      <th></th>\n",
              "      <th></th>\n",
              "      <th></th>\n",
              "      <th></th>\n",
              "      <th></th>\n",
              "      <th></th>\n",
              "    </tr>\n",
              "  </thead>\n",
              "  <tbody>\n",
              "    <tr>\n",
              "      <th>0</th>\n",
              "      <td>6276</td>\n",
              "      <td>6276</td>\n",
              "      <td>6276</td>\n",
              "      <td>6276</td>\n",
              "      <td>6276</td>\n",
              "      <td>6276</td>\n",
              "      <td>6276</td>\n",
              "      <td>6276</td>\n",
              "      <td>6276</td>\n",
              "      <td>6276</td>\n",
              "      <td>6276</td>\n",
              "      <td>6276</td>\n",
              "      <td>6276</td>\n",
              "      <td>6276</td>\n",
              "      <td>6276</td>\n",
              "      <td>6276</td>\n",
              "      <td>6276</td>\n",
              "      <td>6276</td>\n",
              "      <td>6276</td>\n",
              "      <td>6276</td>\n",
              "    </tr>\n",
              "    <tr>\n",
              "      <th>Lyft</th>\n",
              "      <td>307408</td>\n",
              "      <td>307408</td>\n",
              "      <td>307408</td>\n",
              "      <td>307408</td>\n",
              "      <td>307408</td>\n",
              "      <td>307408</td>\n",
              "      <td>307408</td>\n",
              "      <td>307408</td>\n",
              "      <td>307408</td>\n",
              "      <td>307408</td>\n",
              "      <td>307408</td>\n",
              "      <td>307408</td>\n",
              "      <td>307408</td>\n",
              "      <td>307408</td>\n",
              "      <td>307408</td>\n",
              "      <td>307408</td>\n",
              "      <td>307408</td>\n",
              "      <td>307408</td>\n",
              "      <td>307408</td>\n",
              "      <td>307408</td>\n",
              "    </tr>\n",
              "    <tr>\n",
              "      <th>Uber</th>\n",
              "      <td>385663</td>\n",
              "      <td>385663</td>\n",
              "      <td>385663</td>\n",
              "      <td>385663</td>\n",
              "      <td>385663</td>\n",
              "      <td>385663</td>\n",
              "      <td>385663</td>\n",
              "      <td>385663</td>\n",
              "      <td>385663</td>\n",
              "      <td>385663</td>\n",
              "      <td>385663</td>\n",
              "      <td>385663</td>\n",
              "      <td>385663</td>\n",
              "      <td>385663</td>\n",
              "      <td>385663</td>\n",
              "      <td>385663</td>\n",
              "      <td>385663</td>\n",
              "      <td>385663</td>\n",
              "      <td>385663</td>\n",
              "      <td>385663</td>\n",
              "    </tr>\n",
              "  </tbody>\n",
              "</table>\n",
              "</div>"
            ],
            "text/plain": [
              "          distance  time_stamp  destination  ...  date_time     day    hour\n",
              "cab_type                                     ...                           \n",
              "0             6276        6276         6276  ...       6276    6276    6276\n",
              "Lyft        307408      307408       307408  ...     307408  307408  307408\n",
              "Uber        385663      385663       385663  ...     385663  385663  385663\n",
              "\n",
              "[3 rows x 20 columns]"
            ]
          },
          "metadata": {
            "tags": []
          },
          "execution_count": 60
        }
      ]
    },
    {
      "cell_type": "code",
      "metadata": {
        "colab": {
          "base_uri": "https://localhost:8080/",
          "height": 405
        },
        "id": "dpmct8MV_Srj",
        "outputId": "65bce49d-e3a8-4eab-b4fe-aba1a18241e6"
      },
      "source": [
        "a.groupby(\"cab_type\").count().plot.bar()"
      ],
      "execution_count": null,
      "outputs": [
        {
          "output_type": "execute_result",
          "data": {
            "text/plain": [
              "<matplotlib.axes._subplots.AxesSubplot at 0x7f6b6b8ed1d0>"
            ]
          },
          "metadata": {
            "tags": []
          },
          "execution_count": 61
        },
        {
          "output_type": "display_data",
          "data": {
            "image/png": "[encoded data removed]",
            "text/plain": [
              "<Figure size 432x288 with 1 Axes>"
            ]
          },
          "metadata": {
            "tags": [],
            "needs_background": "light"
          }
        }
      ]
    },
    {
      "cell_type": "code",
      "metadata": {
        "colab": {
          "base_uri": "https://localhost:8080/",
          "height": 718
        },
        "id": "8bPai1Xf_jva",
        "outputId": "5d2b710a-2a42-4baf-fd1d-141519e11556"
      },
      "source": [
        "a[\"price\"].value_counts().plot(kind=\"bar\", figsize=(100,50), color=\"b\")"
      ],
      "execution_count": null,
      "outputs": [
        {
          "output_type": "execute_result",
          "data": {
            "text/plain": [
              "<matplotlib.axes._subplots.AxesSubplot at 0x7f6b5d32de90>"
            ]
          },
          "metadata": {
            "tags": []
          },
          "execution_count": 68
        },
        {
          "output_type": "display_data",
          "data": {
            "image/png": "[encoded data removed]",
            "text/plain": [
              "<Figure size 7200x3600 with 1 Axes>"
            ]
          },
          "metadata": {
            "tags": [],
            "needs_background": "light"
          }
        }
      ]
    },
    {
      "cell_type": "code",
      "metadata": {
        "colab": {
          "base_uri": "https://localhost:8080/",
          "height": 342
        },
        "id": "YtedLDNmBtbg",
        "outputId": "856d1a8c-6ea5-4b6e-9058-9423fced410c"
      },
      "source": [
        "#displaying the peak hour\n",
        "a[\"hour\"].value_counts().plot(kind=\"bar\", figsize=(5,5), color=\"seagreen\")"
      ],
      "execution_count": null,
      "outputs": [
        {
          "output_type": "execute_result",
          "data": {
            "text/plain": [
              "<matplotlib.axes._subplots.AxesSubplot at 0x7f6b5cff6510>"
            ]
          },
          "metadata": {
            "tags": []
          },
          "execution_count": 70
        },
        {
          "output_type": "display_data",
          "data": {
            "image/png": "[encoded data removed]",
            "text/plain": [
              "<Figure size 360x360 with 1 Axes>"
            ]
          },
          "metadata": {
            "tags": [],
            "needs_background": "light"
          }
        }
      ]
    },
    {
      "cell_type": "code",
      "metadata": {
        "colab": {
          "base_uri": "https://localhost:8080/",
          "height": 265
        },
        "id": "Xc5Y4AUnCUfW",
        "outputId": "c266c4e9-1b34-4d39-b94f-63478b4abaea"
      },
      "source": [
        "import matplotlib.pyplot as plt\n",
        "x = a[\"hour\"]\n",
        "y = a[\"price\"]\n",
        "plt.plot(x,y)\n",
        "plt.show()"
      ],
      "execution_count": null,
      "outputs": [
        {
          "output_type": "display_data",
          "data": {
            "image/png": "[encoded data removed]",
            "text/plain": [
              "<Figure size 432x288 with 1 Axes>"
            ]
          },
          "metadata": {
            "tags": [],
            "needs_background": "light"
          }
        }
      ]
    },
    {
      "cell_type": "code",
      "metadata": {
        "colab": {
          "base_uri": "https://localhost:8080/",
          "height": 265
        },
        "id": "zQZ6sFAkC77Y",
        "outputId": "1fa9a8fc-3fbb-48db-a13f-a031590a446b"
      },
      "source": [
        "x = a[\"rain\"]\n",
        "y = a[\"price\"]\n",
        "plt.plot(x,y)\n",
        "plt.show()"
      ],
      "execution_count": null,
      "outputs": [
        {
          "output_type": "display_data",
          "data": {
            "image/png": "[encoded data removed]",
            "text/plain": [
              "<Figure size 432x288 with 1 Axes>"
            ]
          },
          "metadata": {
            "tags": [],
            "needs_background": "light"
          }
        }
      ]
    },
    {
      "cell_type": "code",
      "metadata": {
        "id": "xolSyE77Degm"
      },
      "source": [
        "#training data\n",
        "x1 = a[[\"distance\",\"temp\", \"pressure\", \"clouds\", \"humidity\", \"wind\", \"rain\", \"day\", \"hour\", \"surge_multiplier\"]]\n",
        "y1 = a[\"price\"]"
      ],
      "execution_count": null,
      "outputs": []
    },
    {
      "cell_type": "code",
      "metadata": {
        "id": "fQ2a0T2hE5iL"
      },
      "source": [
        "#Using SKicit-learn to split data into traing and testing sets \n",
        "from sklearn.model_selection import train_test_split \n",
        "#Split the data into training and testing sets \n",
        "x_train, y_train, x_test, y_test = train_test_split(x1, y1, test_size = 0.25, random_state =42)"
      ],
      "execution_count": null,
      "outputs": []
    },
    {
      "cell_type": "code",
      "metadata": {
        "colab": {
          "base_uri": "https://localhost:8080/"
        },
        "id": "qqfBJ3NnGbL7",
        "outputId": "9558c82a-61dc-46ef-e95c-dd0b22ec3260"
      },
      "source": [
        "linear= LinearRegression()\n",
        "linear.fit(x_train, x_test)"
      ],
      "execution_count": null,
      "outputs": [
        {
          "output_type": "execute_result",
          "data": {
            "text/plain": [
              "LinearRegression(copy_X=True, fit_intercept=True, n_jobs=None, normalize=False)"
            ]
          },
          "metadata": {
            "tags": []
          },
          "execution_count": 80
        }
      ]
    },
    {
      "cell_type": "code",
      "metadata": {
        "colab": {
          "base_uri": "https://localhost:8080/"
        },
        "id": "hdEjq4BqGp1J",
        "outputId": "360d8d21-7b57-4d13-a588-3f2d0547e40f"
      },
      "source": [
        "predictions = linear.predict(y_train)\n",
        "predictions"
      ],
      "execution_count": null,
      "outputs": [
        {
          "output_type": "execute_result",
          "data": {
            "text/plain": [
              "array([32.5479163 , 14.7556079 , 16.81696887, ..., 11.82898386,\n",
              "       11.85443274, 13.22867338])"
            ]
          },
          "metadata": {
            "tags": []
          },
          "execution_count": 82
        }
      ]
    },
    {
      "cell_type": "code",
      "metadata": {
        "colab": {
          "base_uri": "https://localhost:8080/",
          "height": 417
        },
        "id": "3e6mLlYlHF__",
        "outputId": "c4bf094e-0a83-47f0-96ec-5c05aeef5b21"
      },
      "source": [
        "#displaying the actual and predicted values\n",
        "df = pd.DataFrame({\"Actual Values\": y_test, \"Predicted Values\": predictions})\n",
        "df"
      ],
      "execution_count": null,
      "outputs": [
        {
          "output_type": "execute_result",
          "data": {
            "text/html": [
              "<div>\n",
              "<style scoped>\n",
              "    .dataframe tbody tr th:only-of-type {\n",
              "        vertical-align: middle;\n",
              "    }\n",
              "\n",
              "    .dataframe tbody tr th {\n",
              "        vertical-align: top;\n",
              "    }\n",
              "\n",
              "    .dataframe thead th {\n",
              "        text-align: right;\n",
              "    }\n",
              "</style>\n",
              "<table border=\"1\" class=\"dataframe\">\n",
              "  <thead>\n",
              "    <tr style=\"text-align: right;\">\n",
              "      <th></th>\n",
              "      <th>Actual Values</th>\n",
              "      <th>Predicted Values</th>\n",
              "    </tr>\n",
              "  </thead>\n",
              "  <tbody>\n",
              "    <tr>\n",
              "      <th>81607</th>\n",
              "      <td>42.5</td>\n",
              "      <td>32.547916</td>\n",
              "    </tr>\n",
              "    <tr>\n",
              "      <th>354</th>\n",
              "      <td>0.0</td>\n",
              "      <td>14.755608</td>\n",
              "    </tr>\n",
              "    <tr>\n",
              "      <th>471801</th>\n",
              "      <td>32.5</td>\n",
              "      <td>16.816969</td>\n",
              "    </tr>\n",
              "    <tr>\n",
              "      <th>407645</th>\n",
              "      <td>27.5</td>\n",
              "      <td>10.480192</td>\n",
              "    </tr>\n",
              "    <tr>\n",
              "      <th>474760</th>\n",
              "      <td>27.5</td>\n",
              "      <td>10.556539</td>\n",
              "    </tr>\n",
              "    <tr>\n",
              "      <th>...</th>\n",
              "      <td>...</td>\n",
              "      <td>...</td>\n",
              "    </tr>\n",
              "    <tr>\n",
              "      <th>538489</th>\n",
              "      <td>7.5</td>\n",
              "      <td>10.709232</td>\n",
              "    </tr>\n",
              "    <tr>\n",
              "      <th>579511</th>\n",
              "      <td>13.5</td>\n",
              "      <td>15.519075</td>\n",
              "    </tr>\n",
              "    <tr>\n",
              "      <th>5421</th>\n",
              "      <td>9.0</td>\n",
              "      <td>11.828984</td>\n",
              "    </tr>\n",
              "    <tr>\n",
              "      <th>279982</th>\n",
              "      <td>8.0</td>\n",
              "      <td>11.854433</td>\n",
              "    </tr>\n",
              "    <tr>\n",
              "      <th>236315</th>\n",
              "      <td>27.5</td>\n",
              "      <td>13.228673</td>\n",
              "    </tr>\n",
              "  </tbody>\n",
              "</table>\n",
              "<p>174837 rows × 2 columns</p>\n",
              "</div>"
            ],
            "text/plain": [
              "        Actual Values  Predicted Values\n",
              "81607            42.5         32.547916\n",
              "354               0.0         14.755608\n",
              "471801           32.5         16.816969\n",
              "407645           27.5         10.480192\n",
              "474760           27.5         10.556539\n",
              "...               ...               ...\n",
              "538489            7.5         10.709232\n",
              "579511           13.5         15.519075\n",
              "5421              9.0         11.828984\n",
              "279982            8.0         11.854433\n",
              "236315           27.5         13.228673\n",
              "\n",
              "[174837 rows x 2 columns]"
            ]
          },
          "metadata": {
            "tags": []
          },
          "execution_count": 84
        }
      ]
    },
    {
      "cell_type": "code",
      "metadata": {
        "colab": {
          "base_uri": "https://localhost:8080/",
          "height": 588
        },
        "id": "gbO_lBvJHrbR",
        "outputId": "4c10f265-0642-46c6-9c82-6262ed356e2a"
      },
      "source": [
        "df1 = df.head(25)\n",
        "df1.plot(kind= \"bar\", figsize=(25,10))\n",
        "plt.grid(which=\"major\", linestyle=\":\", linewidth=\"0.5\", color=\"blue\")\n",
        "plt.grid(which=\"minor\", linestyle=\"-\", linewidth=\"0.5\", color=\"pink\")\n",
        "plt.show()"
      ],
      "execution_count": null,
      "outputs": [
        {
          "output_type": "display_data",
          "data": {
            "image/png": "[encoded data removed]",
            "text/plain": [
              "<Figure size 1800x720 with 1 Axes>"
            ]
          },
          "metadata": {
            "tags": [],
            "needs_background": "light"
          }
        }
      ]
    }
  ]
}